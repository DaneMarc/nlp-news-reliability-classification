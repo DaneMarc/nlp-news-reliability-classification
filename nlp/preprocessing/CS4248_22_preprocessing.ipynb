{
 "cells": [
  {
   "cell_type": "code",
   "execution_count": 40,
   "metadata": {
    "colab": {
     "base_uri": "https://localhost:8080/"
    },
    "id": "V7HJ5aVHrRWN",
    "outputId": "877bf079-e951-41e8-ae26-02449385c2b8"
   },
   "outputs": [
    {
     "name": "stdout",
     "output_type": "stream",
     "text": [
      "48854\n",
      "3000\n"
     ]
    }
   ],
   "source": [
    "import csv\n",
    "import sys\n",
    "import pandas as pd\n",
    "import numpy as np\n",
    "import re\n",
    "import nltk\n",
    "import string\n",
    "from nltk.tokenize import word_tokenize\n",
    "from nltk.corpus import stopwords\n",
    "from nltk.stem import WordNetLemmatizer\n",
    "\n",
    "# Uncomment this if these packages are not downloaded\n",
    "# nltk.download('punkt')\n",
    "# nltk.download('stopwords')\n",
    "# nltk.download('wordnet')\n",
    "stop_words = set(stopwords.words('english'))\n",
    "lemmatizer = WordNetLemmatizer()\n",
    "\n",
    "\n",
    "# Increase the maximum field size limit\n",
    "csv.field_size_limit(sys.maxsize)\n",
    "\n",
    "trainData = []\n",
    "with open('fulltrain.csv', 'r', encoding='utf-8') as file:\n",
    "    reader = csv.reader(file)\n",
    "    for row in reader:\n",
    "        trainData.append(row)\n",
    "\n",
    "df = pd.DataFrame(trainData, columns=['Label', 'Text'])\n",
    "\n",
    "\n",
    "testData = []\n",
    "with open('balancedtest.csv', 'r', encoding='utf-8') as file:\n",
    "    reader = csv.reader(file)\n",
    "    for row in reader:\n",
    "        testData.append(row)\n",
    "\n",
    "# Convert to DataFrame\n",
    "df2 = pd.DataFrame(testData, columns=['Label', 'Text'])\n",
    "\n",
    "print(df.shape[0])\n",
    "print(df2.shape[0])"
   ]
  },
  {
   "cell_type": "markdown",
   "metadata": {},
   "source": [
    "## Lowercase Only"
   ]
  },
  {
   "cell_type": "code",
   "execution_count": 41,
   "metadata": {
    "id": "WaDFPQzGfkC1"
   },
   "outputs": [],
   "source": [
    "#preprocessing way1: only lower\n",
    "def preprocess_text(text):\n",
    "    return text.lower()"
   ]
  },
  {
   "cell_type": "code",
   "execution_count": 42,
   "metadata": {},
   "outputs": [],
   "source": [
    "dfl = df.copy()\n",
    "dfl['text_lowercase'] = df['Text'].apply(preprocess_text)\n",
    "dfl.to_csv('way1_train.csv', index=False)\n",
    "\n",
    "dfl2 = df2.copy()\n",
    "dfl2['text_lowercase'] = df2['Text'].apply(preprocess_text)\n",
    "dfl2.to_csv('way1_test.csv', index=False)"
   ]
  },
  {
   "cell_type": "markdown",
   "metadata": {},
   "source": [
    "## Uppercase only"
   ]
  },
  {
   "cell_type": "code",
   "execution_count": 43,
   "metadata": {},
   "outputs": [],
   "source": [
    "#preprocessing way2: only upper\n",
    "def preprocess_text(text):\n",
    "    return text.upper()"
   ]
  },
  {
   "cell_type": "code",
   "execution_count": 44,
   "metadata": {},
   "outputs": [],
   "source": [
    "dfu = df.copy()\n",
    "dfu['text_uppercase'] = df['Text'].apply(preprocess_text)\n",
    "dfu.to_csv('way2_train.csv', index=False)\n",
    "\n",
    "dfu2 = df2.copy()\n",
    "dfu2['text_uppercase'] = df2['Text'].apply(preprocess_text)\n",
    "dfu2.to_csv('way2_test.csv', index=False)"
   ]
  },
  {
   "cell_type": "markdown",
   "metadata": {},
   "source": [
    "## Lowercase + lemmatized"
   ]
  },
  {
   "cell_type": "code",
   "execution_count": 47,
   "metadata": {},
   "outputs": [],
   "source": [
    "#Preprocessing way3: lower + lemmatized\n",
    "def preprocess_text(text):\n",
    "    text = text.lower()\n",
    "    words = word_tokenize(text)\n",
    "    words = [lemmatizer.lemmatize(word) for word in words]\n",
    "    text = ' '.join(words)\n",
    "    return text"
   ]
  },
  {
   "cell_type": "code",
   "execution_count": 48,
   "metadata": {},
   "outputs": [],
   "source": [
    "dfll = df.copy()\n",
    "dfll['text_way3'] = df['Text'].apply(preprocess_text)\n",
    "dfll.to_csv('way3_train.csv', index=False)\n",
    "\n",
    "dfll2 = df2.copy()\n",
    "dfll2['text_way3'] = df2['Text'].apply(preprocess_text)\n",
    "dfll2.to_csv('way3_test.csv', index=False)"
   ]
  },
  {
   "cell_type": "markdown",
   "metadata": {},
   "source": [
    "## Lowercase + punctuation removed"
   ]
  },
  {
   "cell_type": "code",
   "execution_count": 53,
   "metadata": {},
   "outputs": [],
   "source": [
    "#Preprocessing way4: lower + removal of punctuation\n",
    "def remove_punc(text):\n",
    "    text = text.lower()\n",
    "    text = word_tokenize(text)\n",
    "    punchless_bunch = []\n",
    "    for word in text:\n",
    "        punchless_word = word.strip(string.punctuation)\n",
    "        if punchless_word:\n",
    "            punchless_bunch.append(punchless_word)\n",
    "    return punchless_bunch\n"
   ]
  },
  {
   "cell_type": "code",
   "execution_count": 50,
   "metadata": {},
   "outputs": [
    {
     "name": "stdout",
     "output_type": "stream",
     "text": [
      "48854\n",
      "3000\n"
     ]
    }
   ],
   "source": [
    "dflp = df.copy()\n",
    "dflp['text_way4'] = df['Text'].apply(remove_punc)\n",
    "dflp.to_csv('way4_train.csv', index=False)\n",
    "\n",
    "dflp2 = df2.copy()\n",
    "dflp2['text_way4'] = df2['Text'].apply(remove_punc)\n",
    "dflp2.to_csv('way4_test.csv', index=False)\n",
    "\n",
    "print(df.shape[0])\n",
    "print(df2.shape[0])"
   ]
  },
  {
   "cell_type": "markdown",
   "metadata": {},
   "source": [
    "## Lowercase + lemmatized + removal of stopwords and punctuations"
   ]
  },
  {
   "cell_type": "code",
   "execution_count": 54,
   "metadata": {
    "id": "IB5o1GXrpc8P"
   },
   "outputs": [],
   "source": [
    "#preprocessing way5:lower+lematization+remove stopwords+remove punctuation\n",
    "def preprocess_text(text):\n",
    "    new_text = []\n",
    "    text = remove_punc(text)\n",
    "    for sentence in text:\n",
    "        new_sentence =[]\n",
    "        for word in sentence:\n",
    "            if word not in stop_words:  \n",
    "                new_sentence.append(lemmatizer.lemmatize(word))\n",
    "  \n",
    "        new_text.append(new_sentence)\n",
    "    \n",
    "    return new_text"
   ]
  },
  {
   "cell_type": "code",
   "execution_count": 55,
   "metadata": {},
   "outputs": [],
   "source": [
    "dflsp = df.copy()\n",
    "dflsp['text_way5'] = df['Text'].apply(preprocess_text)\n",
    "dflsp.to_csv('way5_train.csv', index=False)\n",
    "\n",
    "dflsp2 = df2.copy()\n",
    "dflsp2['text_way5'] = df2['Text'].apply(preprocess_text)\n",
    "dflsp2.to_csv('way5_test.csv', index=False)\n"
   ]
  },
  {
   "cell_type": "markdown",
   "metadata": {},
   "source": [
    "## Lowercase + lemmatized + removal of stopwords and punctuations and numbers"
   ]
  },
  {
   "cell_type": "code",
   "execution_count": 56,
   "metadata": {
    "id": "LByc0cOZr6AT"
   },
   "outputs": [],
   "source": [
    "#preprocessing way6:lower+lematization+remove stopwords+punctations+numbers\n",
    "def preprocess_text(text):\n",
    "    new_text = []\n",
    "    new_result = []\n",
    "    text = remove_punc(text)\n",
    "    \n",
    "    # Remove numbers/digits\n",
    "    for sentence in text:\n",
    "        new_sentence = []\n",
    "        for token in sentence:\n",
    "            word = re.sub(r'\\d+', '', token)\n",
    "            if word:\n",
    "                new_sentence.append(word)\n",
    "        new_text.append(new_sentence)\n",
    "    \n",
    "    # Lemmatize words\n",
    "    for sentence in new_text:\n",
    "        new_sentence = []\n",
    "        for word in sentence:\n",
    "            if word not in stop_words:  \n",
    "                new_sentence.append(lemmatizer.lemmatize(word))\n",
    "        new_result.append(new_sentence)\n",
    "    \n",
    "    return new_result"
   ]
  },
  {
   "cell_type": "code",
   "execution_count": 57,
   "metadata": {},
   "outputs": [],
   "source": [
    "dfspn = df.copy()\n",
    "dfspn['text_way6'] = df['Text'].apply(preprocess_text)\n",
    "dfspn.to_csv('way6_train.csv', index=False)\n",
    "\n",
    "dfspn2 = df2.copy()\n",
    "dfspn2['text_way6'] = df2['Text'].apply(preprocess_text)\n",
    "dfspn2.to_csv('way6_test.csv', index=False)\n"
   ]
  },
  {
   "cell_type": "markdown",
   "metadata": {},
   "source": [
    "### Additional functions coming soon..."
   ]
  },
  {
   "cell_type": "code",
   "execution_count": null,
   "metadata": {},
   "outputs": [],
   "source": []
  },
  {
   "cell_type": "code",
   "execution_count": 31,
   "metadata": {
    "id": "qcrvHhdWyi5E"
   },
   "outputs": [],
   "source": [
    "X_train = train_data['New_Text']\n",
    "X_test = test_data['New_Text']\n",
    "\n",
    "y_train = train_data['category']\n",
    "y_test = test_data['category']"
   ]
  },
  {
   "cell_type": "code",
   "execution_count": 37,
   "metadata": {
    "id": "fqRBD0DV2U-d"
   },
   "outputs": [],
   "source": [
    "train_data.to_csv('train_data.csv')\n",
    "test_data.to_csv('test_data.csv')"
   ]
  },
  {
   "cell_type": "code",
   "execution_count": 32,
   "metadata": {
    "id": "i--6nba6pJ3Q"
   },
   "outputs": [],
   "source": [
    "#tf-idf\n",
    "from sklearn.feature_extraction.text import TfidfVectorizer\n",
    "\n",
    "tfidf_vectorizer = TfidfVectorizer(max_features=10000)\n",
    "X_train_tfidf = tfidf_vectorizer.fit_transform(X_train).toarray()\n",
    "X_test_tfidf = tfidf_vectorizer.transform(X_test).toarray()\n"
   ]
  },
  {
   "cell_type": "code",
   "execution_count": 33,
   "metadata": {
    "id": "IyRlR0OmpMnJ"
   },
   "outputs": [],
   "source": [
    "#tf-idf + Glove\n",
    "#Glove path\n",
    "glove_path = \"/content/drive/MyDrive/dsml/cs4248/as2/glove.6B.300d.txt\"\n",
    "\n",
    "def load_glove_dict(path):\n",
    "    embeddings_dict = {}\n",
    "    with open(path, 'r', encoding='utf-8') as f:\n",
    "        for line in f:\n",
    "            values = line.split()\n",
    "            word = values[0]\n",
    "            vector = np.asarray(values[1:], \"float32\")\n",
    "            embeddings_dict[word] = vector\n",
    "    return embeddings_dict\n",
    "\n",
    "glove_dict = load_glove_dict(glove_path)\n",
    "\n",
    "def combine_glove_tfidf(texts, tfidf, tfidf_vectorizer, glove_dict):\n",
    "    tfidf_feature_names = tfidf_vectorizer.get_feature_names_out()\n",
    "    vectors = np.zeros((len(texts), 300))\n",
    "    for i, text in enumerate(texts):\n",
    "        tokens = text.split()\n",
    "        token_vectors = np.zeros((len(tokens), 300))\n",
    "        for j, token in enumerate(tokens):\n",
    "            if token in glove_dict:\n",
    "                glove_vector = glove_dict[token]\n",
    "                tfidf_index = tfidf_vectorizer.vocabulary_.get(token, -1)\n",
    "                if tfidf_index != -1:\n",
    "                    tfidf_value = tfidf[i, tfidf_index]\n",
    "                    token_vectors[j] = glove_vector * tfidf_value\n",
    "        if token_vectors.any():\n",
    "            vectors[i] = np.mean(token_vectors, axis=0)\n",
    "    return vectors\n",
    "\n",
    "X_train_combined = combine_glove_tfidf(X_train, X_train_tfidf, tfidf_vectorizer, glove_dict)\n",
    "X_test_combined = combine_glove_tfidf(X_test, X_test_tfidf, tfidf_vectorizer, glove_dict)"
   ]
  },
  {
   "cell_type": "code",
   "execution_count": null,
   "metadata": {
    "id": "UkqxZvde0nSR"
   },
   "outputs": [],
   "source": [
    "from sklearn.preprocessing import LabelEncoder\n",
    "from tensorflow.keras.utils import to_categorical\n",
    "\n",
    "label_encoder = LabelEncoder()\n",
    "y_train_encoded = label_encoder.fit_transform(y_train)\n",
    "y_train_categorical = to_categorical(y_train_encoded)\n",
    "y_test_encoded = label_encoder.transform(y_test)\n",
    "y_test_categorical = to_categorical(y_test_encoded)"
   ]
  },
  {
   "cell_type": "code",
   "execution_count": null,
   "metadata": {},
   "outputs": [],
   "source": []
  }
 ],
 "metadata": {
  "colab": {
   "provenance": []
  },
  "kernelspec": {
   "display_name": "Python 3 (ipykernel)",
   "language": "python",
   "name": "python3"
  },
  "language_info": {
   "codemirror_mode": {
    "name": "ipython",
    "version": 3
   },
   "file_extension": ".py",
   "mimetype": "text/x-python",
   "name": "python",
   "nbconvert_exporter": "python",
   "pygments_lexer": "ipython3",
   "version": "3.9.13"
  }
 },
 "nbformat": 4,
 "nbformat_minor": 1
}
