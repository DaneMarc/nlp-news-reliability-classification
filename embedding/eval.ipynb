{
 "cells": [
  {
   "cell_type": "code",
   "execution_count": null,
   "metadata": {},
   "outputs": [],
   "source": [
    "import os\n",
    "import gensim.downloader as api\n",
    "\n",
    "from gensim.models import Word2Vec, FastText, doc2vec, KeyedVectors\n",
    "from gensim.test.utils import datapath"
   ]
  },
  {
   "cell_type": "code",
   "execution_count": null,
   "metadata": {},
   "outputs": [],
   "source": [
    "#model = api.load('glove-wiki-gigaword-300')\n",
    "#model = api.load('fasttext-wiki-news-subwords-300')\n",
    "model = api.load('word2vec-google-news-300')\n",
    "#model = KeyedVectors.load('embedding/models/fasttext/ft_wiki_300d/ft_wiki_300d.kv')\n",
    "\n",
    "pearson, spearman, oov = model.evaluate_word_pairs(datapath('wordsim353.tsv'))\n",
    "\n",
    "print(pearson, spearman, oov)"
   ]
  }
 ],
 "metadata": {
  "language_info": {
   "name": "python"
  }
 },
 "nbformat": 4,
 "nbformat_minor": 2
}
