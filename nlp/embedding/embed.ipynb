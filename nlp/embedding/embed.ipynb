{
 "cells": [
  {
   "cell_type": "code",
   "execution_count": 1,
   "metadata": {},
   "outputs": [],
   "source": [
    "import pandas as pd\n",
    "from embed import Embedding\n",
    "\n",
    "doc_embed = True\n",
    "tfidf = False\n",
    "sentiment = False\n",
    "tfidf_clip = False\n",
    "pca = False\n",
    "flatten = False\n",
    "\n",
    "base_path = 'embeddings/'\n",
    "fname = ''\n",
    "embed_type = '_doc' if doc_embed else '_concat'\n",
    "\n",
    "embed = Embedding(doc_embed=doc_embed, max_seq_len=100)"
   ]
  },
  {
   "cell_type": "code",
   "execution_count": 2,
   "metadata": {},
   "outputs": [
    {
     "name": "stderr",
     "output_type": "stream",
     "text": [
      "100%|██████████| 3000/3000 [00:02<00:00, 1236.10it/s]\n"
     ]
    }
   ],
   "source": [
    "df = pd.read_pickle('../data/way1_test.pkl')\n",
    "\n",
    "embed.save_embedding(df, tfidf=tfidf, sentiment=sentiment, tfidf_clip=tfidf_clip, pca=pca, flatten=flatten, path=f'{base_path}way1_test{embed_type}{fname}.pkl')"
   ]
  },
  {
   "cell_type": "code",
   "execution_count": 6,
   "metadata": {},
   "outputs": [
    {
     "name": "stdout",
     "output_type": "stream",
     "text": [
      "3000\n"
     ]
    }
   ],
   "source": [
    "df = pd.read_pickle(f'{base_path}way1_test{embed_type}{fname}.pkl')\n",
    "\n",
    "print(len(df['embeddings']))\n",
    "#print(df)"
   ]
  },
  {
   "cell_type": "code",
   "execution_count": 7,
   "metadata": {},
   "outputs": [
    {
     "name": "stderr",
     "output_type": "stream",
     "text": [
      "100%|██████████| 48854/48854 [00:44<00:00, 1101.54it/s]\n"
     ]
    }
   ],
   "source": [
    "df = pd.read_pickle('../data/way1_train.pkl')\n",
    "\n",
    "embed.save_embedding(df, tfidf=tfidf, sentiment=sentiment, tfidf_clip=tfidf_clip, pca=pca, flatten=flatten, path=f'{base_path}way1_train{embed_type}{fname}.pkl')"
   ]
  },
  {
   "cell_type": "code",
   "execution_count": 8,
   "metadata": {},
   "outputs": [
    {
     "name": "stderr",
     "output_type": "stream",
     "text": [
      "100%|██████████| 48854/48854 [00:45<00:00, 1076.96it/s]\n"
     ]
    }
   ],
   "source": [
    "df = pd.read_pickle('../data/way2_train.pkl')\n",
    "\n",
    "embed.save_embedding(df, tfidf=tfidf, sentiment=sentiment, tfidf_clip=tfidf_clip, pca=pca, flatten=flatten, path=f'{base_path}way2_train{embed_type}{fname}.pkl')"
   ]
  },
  {
   "cell_type": "code",
   "execution_count": 9,
   "metadata": {},
   "outputs": [
    {
     "name": "stderr",
     "output_type": "stream",
     "text": [
      "100%|██████████| 3000/3000 [00:02<00:00, 1224.25it/s]\n"
     ]
    }
   ],
   "source": [
    "df = pd.read_pickle('../data/way2_test.pkl')\n",
    "\n",
    "embed.save_embedding(df, tfidf=tfidf, sentiment=sentiment, tfidf_clip=tfidf_clip, pca=pca, flatten=flatten, path=f'{base_path}way2_test{embed_type}{fname}.pkl')"
   ]
  },
  {
   "cell_type": "code",
   "execution_count": 10,
   "metadata": {},
   "outputs": [
    {
     "name": "stderr",
     "output_type": "stream",
     "text": [
      "100%|██████████| 3000/3000 [00:02<00:00, 1395.70it/s]\n"
     ]
    }
   ],
   "source": [
    "df = pd.read_pickle('../data/way3_test.pkl')\n",
    "\n",
    "embed.save_embedding(df, tfidf=tfidf, sentiment=sentiment, tfidf_clip=tfidf_clip, pca=pca, flatten=flatten, path=f'{base_path}way3_test{embed_type}{fname}.pkl')"
   ]
  },
  {
   "cell_type": "code",
   "execution_count": 11,
   "metadata": {},
   "outputs": [
    {
     "name": "stderr",
     "output_type": "stream",
     "text": [
      "100%|██████████| 48854/48854 [00:40<00:00, 1203.34it/s]\n"
     ]
    }
   ],
   "source": [
    "df = pd.read_pickle('../data/way3_train.pkl')\n",
    "\n",
    "embed.save_embedding(df, tfidf=tfidf, sentiment=sentiment, tfidf_clip=tfidf_clip, pca=pca, flatten=flatten, path=f'{base_path}way3_train{embed_type}{fname}.pkl')"
   ]
  },
  {
   "cell_type": "code",
   "execution_count": 12,
   "metadata": {},
   "outputs": [
    {
     "name": "stderr",
     "output_type": "stream",
     "text": [
      "100%|██████████| 48854/48854 [00:41<00:00, 1169.29it/s]\n"
     ]
    }
   ],
   "source": [
    "df = pd.read_pickle('../data/way4_train.pkl')\n",
    "\n",
    "embed.save_embedding(df, tfidf=tfidf, sentiment=sentiment, tfidf_clip=tfidf_clip, pca=pca, flatten=flatten, path=f'{base_path}way4_train{embed_type}{fname}.pkl')"
   ]
  },
  {
   "cell_type": "code",
   "execution_count": 13,
   "metadata": {},
   "outputs": [
    {
     "name": "stderr",
     "output_type": "stream",
     "text": [
      "100%|██████████| 3000/3000 [00:02<00:00, 1286.31it/s]\n"
     ]
    }
   ],
   "source": [
    "df = pd.read_pickle('../data/way4_test.pkl')\n",
    "\n",
    "embed.save_embedding(df, tfidf=tfidf, sentiment=sentiment, tfidf_clip=tfidf_clip, pca=pca, flatten=flatten, path=f'{base_path}way4_test{embed_type}{fname}.pkl')"
   ]
  },
  {
   "cell_type": "code",
   "execution_count": 14,
   "metadata": {},
   "outputs": [
    {
     "name": "stderr",
     "output_type": "stream",
     "text": [
      "100%|██████████| 48854/48854 [00:32<00:00, 1525.13it/s]\n"
     ]
    }
   ],
   "source": [
    "df = pd.read_pickle('../data/way5_train.pkl')\n",
    "\n",
    "embed.save_embedding(df, tfidf=tfidf, sentiment=sentiment, tfidf_clip=tfidf_clip, pca=pca, flatten=flatten, path=f'{base_path}way5_train{embed_type}{fname}.pkl')"
   ]
  },
  {
   "cell_type": "code",
   "execution_count": 15,
   "metadata": {},
   "outputs": [
    {
     "name": "stderr",
     "output_type": "stream",
     "text": [
      "100%|██████████| 3000/3000 [00:01<00:00, 1716.18it/s]\n"
     ]
    }
   ],
   "source": [
    "df = pd.read_pickle('../data/way5_test.pkl')\n",
    "\n",
    "embed.save_embedding(df, tfidf=tfidf, sentiment=sentiment, tfidf_clip=tfidf_clip, pca=pca, flatten=flatten, path=f'{base_path}way5_test{embed_type}{fname}.pkl')"
   ]
  },
  {
   "cell_type": "code",
   "execution_count": 16,
   "metadata": {},
   "outputs": [
    {
     "name": "stderr",
     "output_type": "stream",
     "text": [
      "100%|██████████| 48854/48854 [00:32<00:00, 1509.76it/s]\n"
     ]
    }
   ],
   "source": [
    "df = pd.read_pickle('../data/way6_train.pkl')\n",
    "\n",
    "embed.save_embedding(df, tfidf=tfidf, sentiment=sentiment, tfidf_clip=tfidf_clip, pca=pca, flatten=flatten, path=f'{base_path}way6_train{embed_type}{fname}.pkl')"
   ]
  },
  {
   "cell_type": "code",
   "execution_count": 17,
   "metadata": {},
   "outputs": [
    {
     "name": "stderr",
     "output_type": "stream",
     "text": [
      "100%|██████████| 3000/3000 [00:01<00:00, 1656.99it/s]\n"
     ]
    }
   ],
   "source": [
    "df = pd.read_pickle('../data/way6_test.pkl')\n",
    "\n",
    "embed.save_embedding(df, tfidf=tfidf, sentiment=sentiment, tfidf_clip=tfidf_clip, pca=pca, flatten=flatten, path=f'{base_path}way6_test{embed_type}{fname}.pkl')"
   ]
  },
  {
   "cell_type": "code",
   "execution_count": 18,
   "metadata": {},
   "outputs": [
    {
     "name": "stderr",
     "output_type": "stream",
     "text": [
      "100%|██████████| 48854/48854 [00:29<00:00, 1667.11it/s]\n"
     ]
    }
   ],
   "source": [
    "df = pd.read_pickle('../data/way7_train.pkl')\n",
    "\n",
    "embed.save_embedding(df, tfidf=tfidf, sentiment=sentiment, tfidf_clip=tfidf_clip, pca=pca, flatten=flatten, path=f'{base_path}way7_train{embed_type}{fname}.pkl')"
   ]
  },
  {
   "cell_type": "code",
   "execution_count": 19,
   "metadata": {},
   "outputs": [
    {
     "name": "stderr",
     "output_type": "stream",
     "text": [
      "100%|██████████| 3000/3000 [00:01<00:00, 1919.97it/s]\n"
     ]
    }
   ],
   "source": [
    "df = pd.read_pickle('../data/way7_test.pkl')\n",
    "\n",
    "embed.save_embedding(df, tfidf=tfidf, sentiment=sentiment, tfidf_clip=tfidf_clip, pca=pca, flatten=flatten, path=f'{base_path}way7_test{embed_type}{fname}.pkl')"
   ]
  },
  {
   "cell_type": "code",
   "execution_count": 20,
   "metadata": {},
   "outputs": [
    {
     "name": "stderr",
     "output_type": "stream",
     "text": [
      "100%|██████████| 48854/48854 [00:28<00:00, 1704.00it/s]\n"
     ]
    }
   ],
   "source": [
    "df = pd.read_pickle('../data/way8_train.pkl')\n",
    "\n",
    "embed.save_embedding(df, tfidf=tfidf, sentiment=sentiment, tfidf_clip=tfidf_clip, pca=pca, flatten=flatten, path=f'{base_path}way8_train{embed_type}{fname}.pkl')"
   ]
  },
  {
   "cell_type": "code",
   "execution_count": 21,
   "metadata": {},
   "outputs": [
    {
     "name": "stderr",
     "output_type": "stream",
     "text": [
      "100%|██████████| 3000/3000 [00:01<00:00, 1934.24it/s]\n"
     ]
    }
   ],
   "source": [
    "df = pd.read_pickle('../data/way8_test.pkl')\n",
    "\n",
    "embed.save_embedding(df, tfidf=tfidf, sentiment=sentiment, tfidf_clip=tfidf_clip, pca=pca, flatten=flatten, path=f'{base_path}way8_test{embed_type}{fname}.pkl')"
   ]
  },
  {
   "cell_type": "code",
   "execution_count": 22,
   "metadata": {},
   "outputs": [
    {
     "name": "stderr",
     "output_type": "stream",
     "text": [
      "100%|██████████| 48854/48854 [00:32<00:00, 1524.89it/s]\n"
     ]
    }
   ],
   "source": [
    "df = pd.read_pickle('../data/way9_train.pkl')\n",
    "\n",
    "embed.save_embedding(df, tfidf=tfidf, sentiment=sentiment, tfidf_clip=tfidf_clip, pca=pca, flatten=flatten, path=f'{base_path}way9_train{embed_type}{fname}.pkl')"
   ]
  },
  {
   "cell_type": "code",
   "execution_count": 23,
   "metadata": {},
   "outputs": [
    {
     "name": "stderr",
     "output_type": "stream",
     "text": [
      "100%|██████████| 3000/3000 [00:01<00:00, 1690.88it/s]\n"
     ]
    }
   ],
   "source": [
    "df = pd.read_pickle('../data/way9_test.pkl')\n",
    "\n",
    "embed.save_embedding(df, tfidf=tfidf, sentiment=sentiment, tfidf_clip=tfidf_clip, pca=pca, flatten=flatten, path=f'{base_path}way9_test{embed_type}{fname}.pkl')"
   ]
  },
  {
   "cell_type": "code",
   "execution_count": 24,
   "metadata": {},
   "outputs": [
    {
     "name": "stderr",
     "output_type": "stream",
     "text": [
      "100%|██████████| 48854/48854 [00:44<00:00, 1100.94it/s]\n"
     ]
    }
   ],
   "source": [
    "df = pd.read_pickle('../data/way10_train.pkl')\n",
    "\n",
    "embed.save_embedding(df, tfidf=tfidf, sentiment=sentiment, tfidf_clip=tfidf_clip, pca=pca, flatten=flatten, path=f'{base_path}way10_train{embed_type}{fname}.pkl')"
   ]
  },
  {
   "cell_type": "code",
   "execution_count": 25,
   "metadata": {},
   "outputs": [
    {
     "name": "stderr",
     "output_type": "stream",
     "text": [
      "100%|██████████| 3000/3000 [00:02<00:00, 1239.47it/s]\n"
     ]
    }
   ],
   "source": [
    "df = pd.read_pickle('../data/way10_test.pkl')\n",
    "\n",
    "embed.save_embedding(df, tfidf=tfidf, sentiment=sentiment, tfidf_clip=tfidf_clip, pca=pca, flatten=flatten, path=f'{base_path}way10_test{embed_type}{fname}.pkl')"
   ]
  },
  {
   "cell_type": "code",
   "execution_count": 2,
   "metadata": {},
   "outputs": [
    {
     "name": "stderr",
     "output_type": "stream",
     "text": [
      "100%|██████████| 48854/48854 [13:03<00:00, 62.34it/s]  \n"
     ]
    }
   ],
   "source": [
    "df = pd.read_pickle('../data/way11_train.pkl')\n",
    "\n",
    "embed.save_embedding(df, tfidf=tfidf, sentiment=sentiment, tfidf_clip=tfidf_clip, pca=pca, flatten=flatten, path=f'{base_path}way11_train{embed_type}{fname}.pkl')"
   ]
  },
  {
   "cell_type": "code",
   "execution_count": 27,
   "metadata": {},
   "outputs": [
    {
     "name": "stderr",
     "output_type": "stream",
     "text": [
      "100%|██████████| 3000/3000 [00:02<00:00, 1231.28it/s]\n"
     ]
    }
   ],
   "source": [
    "df = pd.read_pickle('../data/way11_test.pkl')\n",
    "\n",
    "embed.save_embedding(df, tfidf=tfidf, sentiment=sentiment, tfidf_clip=tfidf_clip, pca=pca, flatten=flatten, path=f'{base_path}way11_test{embed_type}{fname}.pkl')"
   ]
  }
 ],
 "metadata": {
  "kernelspec": {
   "display_name": "final",
   "language": "python",
   "name": "python3"
  },
  "language_info": {
   "codemirror_mode": {
    "name": "ipython",
    "version": 3
   },
   "file_extension": ".py",
   "mimetype": "text/x-python",
   "name": "python",
   "nbconvert_exporter": "python",
   "pygments_lexer": "ipython3",
   "version": "3.10.13"
  }
 },
 "nbformat": 4,
 "nbformat_minor": 2
}
