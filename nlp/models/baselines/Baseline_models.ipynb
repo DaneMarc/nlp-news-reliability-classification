{
  "nbformat": 4,
  "nbformat_minor": 0,
  "metadata": {
    "colab": {
      "provenance": [],
      "collapsed_sections": [
        "utILeh1ih3CH",
        "Gsh2BoYYneXm",
        "f_0Cp9ZqfCgU",
        "b4aSySF7f6H2",
        "ha3x4v8gj_EN",
        "mfMcQUb0gFAO"
      ]
    },
    "kernelspec": {
      "name": "python3",
      "display_name": "Python 3"
    },
    "language_info": {
      "name": "python"
    }
  },
  "cells": [
    {
      "cell_type": "markdown",
      "source": [
        "## Pre-processing"
      ],
      "metadata": {
        "id": "S2xBXH9-e_xr"
      }
    },
    {
      "cell_type": "markdown",
      "source": [
        "- Normal case (1)\n",
        "- Lower case (2)\n",
        "- Normal case, no punctuation (3)\n",
        "- Lower case, no punctuation (4)\n",
        "- Normal case, no stopwords (5)\n",
        "- Lower case, no stopwords (6)\n",
        "- Normal,  no stopwords, no punct (7)\n",
        "- ⁠Lower case, no stopwords, no punct (8)\n",
        "- Normal case, no stopwords, lemmatization (9)\n",
        "- Normal case, lemmatization (10)\n",
        "- Normal case, separate contraction (11)"
      ],
      "metadata": {
        "id": "hwa4ipXeESXo"
      }
    },
    {
      "cell_type": "code",
      "source": [
        "# libraries\n",
        "import pandas as pd\n",
        "import re\n",
        "import nltk\n",
        "from nltk.tokenize import word_tokenize, sent_tokenize\n",
        "from sklearn.metrics import f1_score, accuracy_score, precision_score, classification_report, confusion_matrix, roc_auc_score\n",
        "from nltk.corpus import stopwords\n",
        "from imblearn.over_sampling import SMOTE\n",
        "from nltk.stem import WordNetLemmatizer\n",
        "import numpy as np\n",
        "import string\n",
        "import csv\n",
        "import sys\n",
        "nltk.download('punkt')\n",
        "nltk.download('stopwords')\n",
        "nltk.download('wordnet')\n",
        "nltk.download('averaged_perceptron_tagger')\n",
        "stop_words = set(stopwords.words('english'))\n",
        "lemmatizer = WordNetLemmatizer()\n",
        "punctuations = set(string.punctuation)"
      ],
      "metadata": {
        "id": "BIYiZYxOftgv",
        "colab": {
          "base_uri": "https://localhost:8080/"
        },
        "outputId": "b68e8acf-21d8-4af5-da96-39b254cb7050"
      },
      "execution_count": null,
      "outputs": [
        {
          "output_type": "stream",
          "name": "stderr",
          "text": [
            "[nltk_data] Downloading package punkt to /root/nltk_data...\n",
            "[nltk_data]   Package punkt is already up-to-date!\n",
            "[nltk_data] Downloading package stopwords to /root/nltk_data...\n",
            "[nltk_data]   Package stopwords is already up-to-date!\n",
            "[nltk_data] Downloading package wordnet to /root/nltk_data...\n",
            "[nltk_data]   Package wordnet is already up-to-date!\n",
            "[nltk_data] Downloading package averaged_perceptron_tagger to\n",
            "[nltk_data]     /root/nltk_data...\n",
            "[nltk_data]   Package averaged_perceptron_tagger is already up-to-\n",
            "[nltk_data]       date!\n"
          ]
        }
      ]
    },
    {
      "cell_type": "code",
      "source": [
        "from google.colab import drive\n",
        "drive.mount('/content/drive/')\n"
      ],
      "metadata": {
        "id": "3-Eu8DUqC8EP",
        "colab": {
          "base_uri": "https://localhost:8080/"
        },
        "outputId": "c63003fe-1b3a-4b67-d22e-1fba860bcb48"
      },
      "execution_count": null,
      "outputs": [
        {
          "output_type": "stream",
          "name": "stdout",
          "text": [
            "Mounted at /content/drive/\n"
          ]
        }
      ]
    },
    {
      "cell_type": "code",
      "source": [
        "from google.colab import drive\n",
        "drive.flush_and_unmount()"
      ],
      "metadata": {
        "id": "EPgFv7xaYk-M"
      },
      "execution_count": null,
      "outputs": []
    },
    {
      "cell_type": "markdown",
      "source": [
        "#### If you want to run the code then run this, else can load the preprocessed data by running the code after these codes"
      ],
      "metadata": {
        "id": "utILeh1ih3CH"
      }
    },
    {
      "cell_type": "code",
      "source": [
        "# import data here\n",
        "# should change the data path\n",
        "\n",
        "train_data_path = '/content/drive/MyDrive/cs4248_project/datasets/fulltrain.csv'\n",
        "test_data_path = '/content/drive/MyDrive/cs4248_project/datasets/balancedtest.csv'\n",
        "\n",
        "train_data = pd.read_csv(train_data_path,header = None,names=['category', 'text'])\n",
        "test_data = pd.read_csv(test_data_path,header = None,names=['category', 'text'])\n",
        "\n",
        "\n",
        "# split sentence\n",
        "def split_sentence(text):\n",
        "    sentences = sent_tokenize(text, language='english')\n",
        "    return sentences\n",
        "\n",
        "train_data['tokenized_sentence'] = train_data['text'].apply(split_sentence)\n",
        "test_data['tokenized_sentence'] = test_data['text'].apply(split_sentence)\n",
        "\n",
        "train_data = train_data.drop('text', axis=1)\n",
        "test_data = test_data.drop('text', axis=1)"
      ],
      "metadata": {
        "id": "z5W97f4hh2Mi"
      },
      "execution_count": null,
      "outputs": []
    },
    {
      "cell_type": "code",
      "source": [
        "train_data"
      ],
      "metadata": {
        "colab": {
          "base_uri": "https://localhost:8080/",
          "height": 424
        },
        "id": "4rX9slW4lPbR",
        "outputId": "901b9df5-1767-4b4f-aeeb-55d714a62ecd"
      },
      "execution_count": null,
      "outputs": [
        {
          "output_type": "execute_result",
          "data": {
            "text/plain": [
              "       category                                 tokenized_sentence\n",
              "0             1  [A little less than a decade ago, hockey fans ...\n",
              "1             1  [The writers of the HBO series The Sopranos to...\n",
              "2             1  [Despite claims from the TV news outlet to off...\n",
              "3             1  [After receiving 'subpar' service and experien...\n",
              "4             1  [After watching his beloved Seattle Mariners p...\n",
              "...         ...                                                ...\n",
              "48849         4  [The ruling Kuomintang (KMT) has claimed owner...\n",
              "48850         4  [The Taipei city government has encouraged the...\n",
              "48851         4  [President Ma Ying-jeou said Friday that a par...\n",
              "48852         4  [The families of the four people who were kill...\n",
              "48853         4  [The Ministry of Finance will make public on S...\n",
              "\n",
              "[48854 rows x 2 columns]"
            ],
            "text/html": [
              "\n",
              "  <div id=\"df-f96755bf-a6c7-414b-b5a8-20bb14be0546\" class=\"colab-df-container\">\n",
              "    <div>\n",
              "<style scoped>\n",
              "    .dataframe tbody tr th:only-of-type {\n",
              "        vertical-align: middle;\n",
              "    }\n",
              "\n",
              "    .dataframe tbody tr th {\n",
              "        vertical-align: top;\n",
              "    }\n",
              "\n",
              "    .dataframe thead th {\n",
              "        text-align: right;\n",
              "    }\n",
              "</style>\n",
              "<table border=\"1\" class=\"dataframe\">\n",
              "  <thead>\n",
              "    <tr style=\"text-align: right;\">\n",
              "      <th></th>\n",
              "      <th>category</th>\n",
              "      <th>tokenized_sentence</th>\n",
              "    </tr>\n",
              "  </thead>\n",
              "  <tbody>\n",
              "    <tr>\n",
              "      <th>0</th>\n",
              "      <td>1</td>\n",
              "      <td>[A little less than a decade ago, hockey fans ...</td>\n",
              "    </tr>\n",
              "    <tr>\n",
              "      <th>1</th>\n",
              "      <td>1</td>\n",
              "      <td>[The writers of the HBO series The Sopranos to...</td>\n",
              "    </tr>\n",
              "    <tr>\n",
              "      <th>2</th>\n",
              "      <td>1</td>\n",
              "      <td>[Despite claims from the TV news outlet to off...</td>\n",
              "    </tr>\n",
              "    <tr>\n",
              "      <th>3</th>\n",
              "      <td>1</td>\n",
              "      <td>[After receiving 'subpar' service and experien...</td>\n",
              "    </tr>\n",
              "    <tr>\n",
              "      <th>4</th>\n",
              "      <td>1</td>\n",
              "      <td>[After watching his beloved Seattle Mariners p...</td>\n",
              "    </tr>\n",
              "    <tr>\n",
              "      <th>...</th>\n",
              "      <td>...</td>\n",
              "      <td>...</td>\n",
              "    </tr>\n",
              "    <tr>\n",
              "      <th>48849</th>\n",
              "      <td>4</td>\n",
              "      <td>[The ruling Kuomintang (KMT) has claimed owner...</td>\n",
              "    </tr>\n",
              "    <tr>\n",
              "      <th>48850</th>\n",
              "      <td>4</td>\n",
              "      <td>[The Taipei city government has encouraged the...</td>\n",
              "    </tr>\n",
              "    <tr>\n",
              "      <th>48851</th>\n",
              "      <td>4</td>\n",
              "      <td>[President Ma Ying-jeou said Friday that a par...</td>\n",
              "    </tr>\n",
              "    <tr>\n",
              "      <th>48852</th>\n",
              "      <td>4</td>\n",
              "      <td>[The families of the four people who were kill...</td>\n",
              "    </tr>\n",
              "    <tr>\n",
              "      <th>48853</th>\n",
              "      <td>4</td>\n",
              "      <td>[The Ministry of Finance will make public on S...</td>\n",
              "    </tr>\n",
              "  </tbody>\n",
              "</table>\n",
              "<p>48854 rows × 2 columns</p>\n",
              "</div>\n",
              "    <div class=\"colab-df-buttons\">\n",
              "\n",
              "  <div class=\"colab-df-container\">\n",
              "    <button class=\"colab-df-convert\" onclick=\"convertToInteractive('df-f96755bf-a6c7-414b-b5a8-20bb14be0546')\"\n",
              "            title=\"Convert this dataframe to an interactive table.\"\n",
              "            style=\"display:none;\">\n",
              "\n",
              "  <svg xmlns=\"http://www.w3.org/2000/svg\" height=\"24px\" viewBox=\"0 -960 960 960\">\n",
              "    <path d=\"M120-120v-720h720v720H120Zm60-500h600v-160H180v160Zm220 220h160v-160H400v160Zm0 220h160v-160H400v160ZM180-400h160v-160H180v160Zm440 0h160v-160H620v160ZM180-180h160v-160H180v160Zm440 0h160v-160H620v160Z\"/>\n",
              "  </svg>\n",
              "    </button>\n",
              "\n",
              "  <style>\n",
              "    .colab-df-container {\n",
              "      display:flex;\n",
              "      gap: 12px;\n",
              "    }\n",
              "\n",
              "    .colab-df-convert {\n",
              "      background-color: #E8F0FE;\n",
              "      border: none;\n",
              "      border-radius: 50%;\n",
              "      cursor: pointer;\n",
              "      display: none;\n",
              "      fill: #1967D2;\n",
              "      height: 32px;\n",
              "      padding: 0 0 0 0;\n",
              "      width: 32px;\n",
              "    }\n",
              "\n",
              "    .colab-df-convert:hover {\n",
              "      background-color: #E2EBFA;\n",
              "      box-shadow: 0px 1px 2px rgba(60, 64, 67, 0.3), 0px 1px 3px 1px rgba(60, 64, 67, 0.15);\n",
              "      fill: #174EA6;\n",
              "    }\n",
              "\n",
              "    .colab-df-buttons div {\n",
              "      margin-bottom: 4px;\n",
              "    }\n",
              "\n",
              "    [theme=dark] .colab-df-convert {\n",
              "      background-color: #3B4455;\n",
              "      fill: #D2E3FC;\n",
              "    }\n",
              "\n",
              "    [theme=dark] .colab-df-convert:hover {\n",
              "      background-color: #434B5C;\n",
              "      box-shadow: 0px 1px 3px 1px rgba(0, 0, 0, 0.15);\n",
              "      filter: drop-shadow(0px 1px 2px rgba(0, 0, 0, 0.3));\n",
              "      fill: #FFFFFF;\n",
              "    }\n",
              "  </style>\n",
              "\n",
              "    <script>\n",
              "      const buttonEl =\n",
              "        document.querySelector('#df-f96755bf-a6c7-414b-b5a8-20bb14be0546 button.colab-df-convert');\n",
              "      buttonEl.style.display =\n",
              "        google.colab.kernel.accessAllowed ? 'block' : 'none';\n",
              "\n",
              "      async function convertToInteractive(key) {\n",
              "        const element = document.querySelector('#df-f96755bf-a6c7-414b-b5a8-20bb14be0546');\n",
              "        const dataTable =\n",
              "          await google.colab.kernel.invokeFunction('convertToInteractive',\n",
              "                                                    [key], {});\n",
              "        if (!dataTable) return;\n",
              "\n",
              "        const docLinkHtml = 'Like what you see? Visit the ' +\n",
              "          '<a target=\"_blank\" href=https://colab.research.google.com/notebooks/data_table.ipynb>data table notebook</a>'\n",
              "          + ' to learn more about interactive tables.';\n",
              "        element.innerHTML = '';\n",
              "        dataTable['output_type'] = 'display_data';\n",
              "        await google.colab.output.renderOutput(dataTable, element);\n",
              "        const docLink = document.createElement('div');\n",
              "        docLink.innerHTML = docLinkHtml;\n",
              "        element.appendChild(docLink);\n",
              "      }\n",
              "    </script>\n",
              "  </div>\n",
              "\n",
              "\n",
              "<div id=\"df-b8832aa4-4212-4e6d-811b-6978f69d34a3\">\n",
              "  <button class=\"colab-df-quickchart\" onclick=\"quickchart('df-b8832aa4-4212-4e6d-811b-6978f69d34a3')\"\n",
              "            title=\"Suggest charts\"\n",
              "            style=\"display:none;\">\n",
              "\n",
              "<svg xmlns=\"http://www.w3.org/2000/svg\" height=\"24px\"viewBox=\"0 0 24 24\"\n",
              "     width=\"24px\">\n",
              "    <g>\n",
              "        <path d=\"M19 3H5c-1.1 0-2 .9-2 2v14c0 1.1.9 2 2 2h14c1.1 0 2-.9 2-2V5c0-1.1-.9-2-2-2zM9 17H7v-7h2v7zm4 0h-2V7h2v10zm4 0h-2v-4h2v4z\"/>\n",
              "    </g>\n",
              "</svg>\n",
              "  </button>\n",
              "\n",
              "<style>\n",
              "  .colab-df-quickchart {\n",
              "      --bg-color: #E8F0FE;\n",
              "      --fill-color: #1967D2;\n",
              "      --hover-bg-color: #E2EBFA;\n",
              "      --hover-fill-color: #174EA6;\n",
              "      --disabled-fill-color: #AAA;\n",
              "      --disabled-bg-color: #DDD;\n",
              "  }\n",
              "\n",
              "  [theme=dark] .colab-df-quickchart {\n",
              "      --bg-color: #3B4455;\n",
              "      --fill-color: #D2E3FC;\n",
              "      --hover-bg-color: #434B5C;\n",
              "      --hover-fill-color: #FFFFFF;\n",
              "      --disabled-bg-color: #3B4455;\n",
              "      --disabled-fill-color: #666;\n",
              "  }\n",
              "\n",
              "  .colab-df-quickchart {\n",
              "    background-color: var(--bg-color);\n",
              "    border: none;\n",
              "    border-radius: 50%;\n",
              "    cursor: pointer;\n",
              "    display: none;\n",
              "    fill: var(--fill-color);\n",
              "    height: 32px;\n",
              "    padding: 0;\n",
              "    width: 32px;\n",
              "  }\n",
              "\n",
              "  .colab-df-quickchart:hover {\n",
              "    background-color: var(--hover-bg-color);\n",
              "    box-shadow: 0 1px 2px rgba(60, 64, 67, 0.3), 0 1px 3px 1px rgba(60, 64, 67, 0.15);\n",
              "    fill: var(--button-hover-fill-color);\n",
              "  }\n",
              "\n",
              "  .colab-df-quickchart-complete:disabled,\n",
              "  .colab-df-quickchart-complete:disabled:hover {\n",
              "    background-color: var(--disabled-bg-color);\n",
              "    fill: var(--disabled-fill-color);\n",
              "    box-shadow: none;\n",
              "  }\n",
              "\n",
              "  .colab-df-spinner {\n",
              "    border: 2px solid var(--fill-color);\n",
              "    border-color: transparent;\n",
              "    border-bottom-color: var(--fill-color);\n",
              "    animation:\n",
              "      spin 1s steps(1) infinite;\n",
              "  }\n",
              "\n",
              "  @keyframes spin {\n",
              "    0% {\n",
              "      border-color: transparent;\n",
              "      border-bottom-color: var(--fill-color);\n",
              "      border-left-color: var(--fill-color);\n",
              "    }\n",
              "    20% {\n",
              "      border-color: transparent;\n",
              "      border-left-color: var(--fill-color);\n",
              "      border-top-color: var(--fill-color);\n",
              "    }\n",
              "    30% {\n",
              "      border-color: transparent;\n",
              "      border-left-color: var(--fill-color);\n",
              "      border-top-color: var(--fill-color);\n",
              "      border-right-color: var(--fill-color);\n",
              "    }\n",
              "    40% {\n",
              "      border-color: transparent;\n",
              "      border-right-color: var(--fill-color);\n",
              "      border-top-color: var(--fill-color);\n",
              "    }\n",
              "    60% {\n",
              "      border-color: transparent;\n",
              "      border-right-color: var(--fill-color);\n",
              "    }\n",
              "    80% {\n",
              "      border-color: transparent;\n",
              "      border-right-color: var(--fill-color);\n",
              "      border-bottom-color: var(--fill-color);\n",
              "    }\n",
              "    90% {\n",
              "      border-color: transparent;\n",
              "      border-bottom-color: var(--fill-color);\n",
              "    }\n",
              "  }\n",
              "</style>\n",
              "\n",
              "  <script>\n",
              "    async function quickchart(key) {\n",
              "      const quickchartButtonEl =\n",
              "        document.querySelector('#' + key + ' button');\n",
              "      quickchartButtonEl.disabled = true;  // To prevent multiple clicks.\n",
              "      quickchartButtonEl.classList.add('colab-df-spinner');\n",
              "      try {\n",
              "        const charts = await google.colab.kernel.invokeFunction(\n",
              "            'suggestCharts', [key], {});\n",
              "      } catch (error) {\n",
              "        console.error('Error during call to suggestCharts:', error);\n",
              "      }\n",
              "      quickchartButtonEl.classList.remove('colab-df-spinner');\n",
              "      quickchartButtonEl.classList.add('colab-df-quickchart-complete');\n",
              "    }\n",
              "    (() => {\n",
              "      let quickchartButtonEl =\n",
              "        document.querySelector('#df-b8832aa4-4212-4e6d-811b-6978f69d34a3 button');\n",
              "      quickchartButtonEl.style.display =\n",
              "        google.colab.kernel.accessAllowed ? 'block' : 'none';\n",
              "    })();\n",
              "  </script>\n",
              "</div>\n",
              "\n",
              "  <div id=\"id_4429037c-e769-4890-b9f3-d369021b8891\">\n",
              "    <style>\n",
              "      .colab-df-generate {\n",
              "        background-color: #E8F0FE;\n",
              "        border: none;\n",
              "        border-radius: 50%;\n",
              "        cursor: pointer;\n",
              "        display: none;\n",
              "        fill: #1967D2;\n",
              "        height: 32px;\n",
              "        padding: 0 0 0 0;\n",
              "        width: 32px;\n",
              "      }\n",
              "\n",
              "      .colab-df-generate:hover {\n",
              "        background-color: #E2EBFA;\n",
              "        box-shadow: 0px 1px 2px rgba(60, 64, 67, 0.3), 0px 1px 3px 1px rgba(60, 64, 67, 0.15);\n",
              "        fill: #174EA6;\n",
              "      }\n",
              "\n",
              "      [theme=dark] .colab-df-generate {\n",
              "        background-color: #3B4455;\n",
              "        fill: #D2E3FC;\n",
              "      }\n",
              "\n",
              "      [theme=dark] .colab-df-generate:hover {\n",
              "        background-color: #434B5C;\n",
              "        box-shadow: 0px 1px 3px 1px rgba(0, 0, 0, 0.15);\n",
              "        filter: drop-shadow(0px 1px 2px rgba(0, 0, 0, 0.3));\n",
              "        fill: #FFFFFF;\n",
              "      }\n",
              "    </style>\n",
              "    <button class=\"colab-df-generate\" onclick=\"generateWithVariable('train_data')\"\n",
              "            title=\"Generate code using this dataframe.\"\n",
              "            style=\"display:none;\">\n",
              "\n",
              "  <svg xmlns=\"http://www.w3.org/2000/svg\" height=\"24px\"viewBox=\"0 0 24 24\"\n",
              "       width=\"24px\">\n",
              "    <path d=\"M7,19H8.4L18.45,9,17,7.55,7,17.6ZM5,21V16.75L18.45,3.32a2,2,0,0,1,2.83,0l1.4,1.43a1.91,1.91,0,0,1,.58,1.4,1.91,1.91,0,0,1-.58,1.4L9.25,21ZM18.45,9,17,7.55Zm-12,3A5.31,5.31,0,0,0,4.9,8.1,5.31,5.31,0,0,0,1,6.5,5.31,5.31,0,0,0,4.9,4.9,5.31,5.31,0,0,0,6.5,1,5.31,5.31,0,0,0,8.1,4.9,5.31,5.31,0,0,0,12,6.5,5.46,5.46,0,0,0,6.5,12Z\"/>\n",
              "  </svg>\n",
              "    </button>\n",
              "    <script>\n",
              "      (() => {\n",
              "      const buttonEl =\n",
              "        document.querySelector('#id_4429037c-e769-4890-b9f3-d369021b8891 button.colab-df-generate');\n",
              "      buttonEl.style.display =\n",
              "        google.colab.kernel.accessAllowed ? 'block' : 'none';\n",
              "\n",
              "      buttonEl.onclick = () => {\n",
              "        google.colab.notebook.generateWithVariable('train_data');\n",
              "      }\n",
              "      })();\n",
              "    </script>\n",
              "  </div>\n",
              "\n",
              "    </div>\n",
              "  </div>\n"
            ],
            "application/vnd.google.colaboratory.intrinsic+json": {
              "type": "dataframe",
              "variable_name": "train_data",
              "summary": "{\n  \"name\": \"train_data\",\n  \"rows\": 48854,\n  \"fields\": [\n    {\n      \"column\": \"category\",\n      \"properties\": {\n        \"dtype\": \"number\",\n        \"std\": 1,\n        \"min\": 1,\n        \"max\": 4,\n        \"num_unique_values\": 4,\n        \"samples\": [\n          2,\n          4,\n          1\n        ],\n        \"semantic_type\": \"\",\n        \"description\": \"\"\n      }\n    },\n    {\n      \"column\": \"tokenized_sentence\",\n      \"properties\": {\n        \"dtype\": \"object\",\n        \"semantic_type\": \"\",\n        \"description\": \"\"\n      }\n    }\n  ]\n}"
            }
          },
          "metadata": {},
          "execution_count": 27
        }
      ]
    },
    {
      "cell_type": "code",
      "source": [
        "#preprocessing way1: Normal case\n",
        "def preprocess_text(sentences):\n",
        "    tokenized_sentences = [word_tokenize(sentence) for sentence in sentences]\n",
        "    return tokenized_sentences\n",
        "\n",
        "#preprocessing way2: Lower case\n",
        "def preprocess_text(sentences):\n",
        "    tokenized_sentences = [word_tokenize(sentence) for sentence in sentences]\n",
        "    lowercased_sentences = [[word.lower() for word in sentence] for sentence in tokenized_sentences]\n",
        "    return lowercased_sentences\n",
        "\n",
        "#preprocessing way3: Normal case, no punctuation\n",
        "def preprocess_text(sentences):\n",
        "    tokenized_sentences = [word_tokenize(sentence) for sentence in sentences]\n",
        "    cleaned_sentences = [\n",
        "        [word for word in sentence if not all(char in punctuations for char in word)]\n",
        "        for sentence in tokenized_sentences\n",
        "    ]\n",
        "    return cleaned_sentences\n",
        "\n",
        "#preprocessing way4: Lower case, no punctuation\n",
        "def preprocess_text(sentences):\n",
        "    tokenized_sentences = [word_tokenize(sentence) for sentence in sentences]\n",
        "    cleaned_sentences = [\n",
        "        [word.lower() for word in sentence if not all(char in punctuations for char in word)]\n",
        "        for sentence in tokenized_sentences\n",
        "    ]\n",
        "    return cleaned_sentences\n",
        "\n",
        "#preprocessing way5: Normal case, no stopwords\n",
        "def preprocess_text(sentences):\n",
        "    tokenized_sentences = [word_tokenize(sentence) for sentence in sentences]\n",
        "    cleaned_sentences = [\n",
        "        [word for word in sentence if word not in stop_words]\n",
        "        for sentence in tokenized_sentences\n",
        "    ]\n",
        "    return cleaned_sentences\n",
        "\n",
        "# preprocessing way6: Lower case, no stopwords\n",
        "def preprocess_text(text):\n",
        "\n",
        "    tokenized_sentences = sent_tokenize(text)\n",
        "    new_text = []\n",
        "    for sentence in tokenized_sentences:\n",
        "        tokenized_words = word_tokenize(sentence)\n",
        "        new_sentence = []\n",
        "        for word in tokenized_words:\n",
        "            lower_word = word.lower()\n",
        "            if lower_word not in stop_words:\n",
        "                new_sentence.append(lower_word)\n",
        "        new_text.append(new_sentence)\n",
        "    return new_text\n",
        "\n",
        "# preprocessing way7: Normal, no stopwords, no punct\n",
        "def remove_punc(text):\n",
        "    text = word_tokenize(text)\n",
        "    translator = str.maketrans('', '', string.punctuation)\n",
        "    punchless_bunch = [word.translate(translator) for word in text if word.translate(translator)]\n",
        "    return punchless_bunch\n",
        "\n",
        "\n",
        "def preprocess_text(text):\n",
        "    tokenized_sentences = sent_tokenize(text)\n",
        "    new_text = []\n",
        "    for sentence in tokenized_sentences:\n",
        "        tokenized_words = remove_punc(sentence)\n",
        "        new_sentence = []\n",
        "        for word in tokenized_words:\n",
        "            if word not in stop_words:\n",
        "                new_sentence.append(word)\n",
        "        new_text.append(new_sentence)\n",
        "    return new_text\n",
        "\n",
        "# preprocessing way8: Lower case, no stopwords, no punct\n",
        "def remove_punc(text):\n",
        "    text = text.lower()\n",
        "    text = word_tokenize(text)\n",
        "    translator = str.maketrans('', '', string.punctuation)\n",
        "    punchless_bunch = [word.translate(translator) for word in text if word.translate(translator)]\n",
        "    return punchless_bunch\n",
        "\n",
        "\n",
        "def preprocess_text(text):\n",
        "    tokenized_sentences = sent_tokenize(text)\n",
        "    new_text = []\n",
        "    for sentence in tokenized_sentences:\n",
        "        tokenized_words = remove_punc(sentence)\n",
        "        new_sentence = []\n",
        "        for word in tokenized_words:\n",
        "            if word not in stop_words:\n",
        "                new_sentence.append(word)\n",
        "        new_text.append(new_sentence)\n",
        "    return new_text\n",
        "\n",
        "# preprocessing way9: Normal case, no stopwords, lemmatization\n",
        "def preprocess_text(text):\n",
        "    tokenized_sentences = sent_tokenize(text)\n",
        "    new_text = []\n",
        "    for sentence in tokenized_sentences:\n",
        "        tokenized_words = word_tokenize(sentence)\n",
        "        new_sentence = []\n",
        "        for word in tokenized_words:\n",
        "            if word not in stop_words:\n",
        "                lemmatized_word = lemmatizer.lemmatize(word)\n",
        "                new_sentence.append(lemmatized_word)\n",
        "        new_text.append(new_sentence)\n",
        "    return new_text\n",
        "\n",
        "# preprocessing way10: Normal case, lemmatization\n",
        "def preprocess_text(text):\n",
        "    tokenized_sentences = sent_tokenize(text)\n",
        "    new_text = []\n",
        "    for sentence in tokenized_sentences:\n",
        "        tokenized_words = word_tokenize(sentence)\n",
        "        new_sentence = []\n",
        "        for word in tokenized_words:\n",
        "            lemmatized_word = lemmatizer.lemmatize(word)\n",
        "            new_sentence.append(lemmatized_word)\n",
        "        new_text.append(new_sentence)\n",
        "    return new_text\n",
        "\n",
        "# preprocessing way11: Normal case, separate contraction\n",
        "\n",
        "contractions = {\n",
        "\"ain't\": \"am not / are not / is not / has not / have not\",\n",
        "\"aren't\": \"are not / am not\",\n",
        "\"can't\": \"cannot\",\n",
        "\"can't've\": \"cannot have\",\n",
        "\"'cause\": \"because\",\n",
        "\"could've\": \"could have\",\n",
        "\"couldn't\": \"could not\",\n",
        "\"couldn't've\": \"could not have\",\n",
        "\"didn't\": \"did not\",\n",
        "\"doesn't\": \"does not\",\n",
        "\"don't\": \"do not\",\n",
        "\"hadn't\": \"had not\",\n",
        "\"hadn't've\": \"had not have\",\n",
        "\"hasn't\": \"has not\",\n",
        "\"haven't\": \"have not\",\n",
        "\"he'd\": \"he had / he would\",\n",
        "\"he'd've\": \"he would have\",\n",
        "\"he'll\": \"he shall / he will\",\n",
        "\"he'll've\": \"he shall have / he will have\",\n",
        "\"here's\": \"here is\",\n",
        "\"he's\": \"he has / he is\",\n",
        "\"how'd\": \"how did\",\n",
        "\"how'd'y\": \"how do you\",\n",
        "\"how'll\": \"how will\",\n",
        "\"how's\": \"how has / how is / how does\",\n",
        "\"I'd\": \"I had / I would\",\n",
        "\"I'd've\": \"I would have\",\n",
        "\"I'll\": \"I shall / I will\",\n",
        "\"I'll've\": \"I shall have / I will have\",\n",
        "\"I'm\": \"I am\",\n",
        "\"I've\": \"I have\",\n",
        "\"isn't\": \"is not\",\n",
        "\"it'd\": \"it had / it would\",\n",
        "\"it'd've\": \"it would have\",\n",
        "\"it'll\": \"it shall / it will\",\n",
        "\"it'll've\": \"it shall have / it will have\",\n",
        "\"it's\": \"it has / it is\",\n",
        "\"let's\": \"let us\",\n",
        "\"ma'am\": \"madam\",\n",
        "\"mayn't\": \"may not\",\n",
        "\"might've\": \"might have\",\n",
        "\"mightn't\": \"might not\",\n",
        "\"mightn't've\": \"might not have\",\n",
        "\"must've\": \"must have\",\n",
        "\"mustn't\": \"must not\",\n",
        "\"mustn't've\": \"must not have\",\n",
        "\"needn't\": \"need not\",\n",
        "\"needn't've\": \"need not have\",\n",
        "\"o'clock\": \"of the clock\",\n",
        "\"oughtn't\": \"ought not\",\n",
        "\"oughtn't've\": \"ought not have\",\n",
        "\"shan't\": \"shall not\",\n",
        "\"sha'n't\": \"shall not\",\n",
        "\"shan't've\": \"shall not have\",\n",
        "\"she'd\": \"she had / she would\",\n",
        "\"she'd've\": \"she would have\",\n",
        "\"she'll\": \"she shall / she will\",\n",
        "\"she'll've\": \"she shall have / she will have\",\n",
        "\"she's\": \"she has / she is\",\n",
        "\"should've\": \"should have\",\n",
        "\"shouldn't\": \"should not\",\n",
        "\"shouldn't've\": \"should not have\",\n",
        "\"so've\": \"so have\",\n",
        "\"so's\": \"so as / so is\",\n",
        "\"that'd\": \"that would / that had\",\n",
        "\"that'd've\": \"that would have\",\n",
        "\"that's\": \"that has / that is\",\n",
        "\"there'd\": \"there had / there would\",\n",
        "\"there'd've\": \"there would have\",\n",
        "\"there's\": \"there has / there is\",\n",
        "\"they'd\": \"they had / they would\",\n",
        "\"they'd've\": \"they would have\",\n",
        "\"they'll\": \"they shall / they will\",\n",
        "\"they'll've\": \"they shall have / they will have\",\n",
        "\"they're\": \"they are\",\n",
        "\"they've\": \"they have\",\n",
        "\"to've\": \"to have\",\n",
        "\"wasn't\": \"was not\",\n",
        "\"we'd\": \"we had / we would\",\n",
        "\"we'd've\": \"we would have\",\n",
        "\"we'll\": \"we will\",\n",
        "\"we'll've\": \"we will have\",\n",
        "\"we're\": \"we are\",\n",
        "\"we've\": \"we have\",\n",
        "\"weren't\": \"were not\",\n",
        "\"what'll\": \"what shall / what will\",\n",
        "\"what'll've\": \"what shall have / what will have\",\n",
        "\"what're\": \"what are\",\n",
        "\"what's\": \"what has / what is\",\n",
        "\"what've\": \"what have\",\n",
        "\"when's\": \"when has / when is\",\n",
        "\"when've\": \"when have\",\n",
        "\"where'd\": \"where did\",\n",
        "\"where's\": \"where has / where is\",\n",
        "\"where've\": \"where have\",\n",
        "\"who'll\": \"who shall / who will\",\n",
        "\"who'll've\": \"who shall have / who will have\",\n",
        "\"who's\": \"who has / who is\",\n",
        "\"who've\": \"who have\",\n",
        "\"why's\": \"why has / why is\",\n",
        "\"why've\": \"why have\",\n",
        "\"will've\": \"will have\",\n",
        "\"won't\": \"will not\",\n",
        "\"won't've\": \"will not have\",\n",
        "\"would've\": \"would have\",\n",
        "\"wouldn't\": \"would not\",\n",
        "\"wouldn't've\": \"would not have\",\n",
        "\"y'all\": \"you all\",\n",
        "\"y'all'd\": \"you all would\",\n",
        "\"y'all'd've\": \"you all would have\",\n",
        "\"y'all're\": \"you all are\",\n",
        "\"y'all've\": \"you all have\",\n",
        "\"you'd\": \"you had / you would\",\n",
        "\"you'd've\": \"you would have\",\n",
        "\"you'll\": \"you shall / you will\",\n",
        "\"you'll've\": \"you shall have / you will have\",\n",
        "\"you're\": \"you are\",\n",
        "\"you've\": \"you have\"\n",
        "}\n",
        "\n",
        "def expand_contractions_sentence(sentence, contractions):\n",
        "    for contraction, expansion in contractions.items():\n",
        "        pattern = re.compile(re.escape(contraction), re.IGNORECASE)\n",
        "        sentence = pattern.sub(expansion, sentence)\n",
        "    return sentence\n",
        "\n",
        "def preprocess_text(text):\n",
        "    sentences = sent_tokenize(text)\n",
        "    processed_sentences = [expand_contractions_sentence(sentence, contractions) for sentence in sentences]\n",
        "    return processed_sentences"
      ],
      "metadata": {
        "id": "rsBZ7oH8lyTh"
      },
      "execution_count": null,
      "outputs": []
    },
    {
      "cell_type": "markdown",
      "source": [
        "## Load preprocessed data below"
      ],
      "metadata": {
        "id": "Gsh2BoYYneXm"
      }
    },
    {
      "cell_type": "code",
      "source": [
        "# train_data_path = '/content/drive/MyDrive/preprocessed_data/raw_data/fulltrain.csv'\n",
        "# test_data_path = '/content/drive/MyDrive/preprocessed_data/raw_data/balancedtest.csv'\n",
        "\n",
        "# train_data = pd.read_csv(train_data_path,header = None,names=['category', 'text'])\n",
        "# test_data = pd.read_csv(test_data_path,header = None,names=['category', 'text'])\n",
        "\n",
        "\n",
        "#David's path (uncomment to change to urs)\n",
        "train_data_path = '/content/drive/MyDrive/cs4248_project/processed_data/way7_train.pkl'\n",
        "test_data_path = '/content/drive/MyDrive/cs4248_project/processed_data/way7_test.pkl'\n",
        "\n",
        "train_data = pd.read_pickle(train_data_path)\n",
        "test_data = pd.read_pickle(test_data_path)\n",
        "\n",
        "#--------------------------------------------------------------------------------------\n",
        "\n"
      ],
      "metadata": {
        "id": "3tISnn4CfPTT",
        "outputId": "d13a9cd2-069d-4315-ff43-8991325ad62a",
        "colab": {
          "base_uri": "https://localhost:8080/",
          "height": 356
        }
      },
      "execution_count": null,
      "outputs": [
        {
          "output_type": "error",
          "ename": "FileNotFoundError",
          "evalue": "[Errno 2] No such file or directory: '/content/drive/MyDrive/cs4248_project/processed_data/way7_train.pkl'",
          "traceback": [
            "\u001b[0;31m---------------------------------------------------------------------------\u001b[0m",
            "\u001b[0;31mFileNotFoundError\u001b[0m                         Traceback (most recent call last)",
            "\u001b[0;32m<ipython-input-3-9153c37b706f>\u001b[0m in \u001b[0;36m<cell line: 12>\u001b[0;34m()\u001b[0m\n\u001b[1;32m     10\u001b[0m \u001b[0mtest_data_path\u001b[0m \u001b[0;34m=\u001b[0m \u001b[0;34m'/content/drive/MyDrive/cs4248_project/processed_data/way7_test.pkl'\u001b[0m\u001b[0;34m\u001b[0m\u001b[0;34m\u001b[0m\u001b[0m\n\u001b[1;32m     11\u001b[0m \u001b[0;34m\u001b[0m\u001b[0m\n\u001b[0;32m---> 12\u001b[0;31m \u001b[0mtrain_data\u001b[0m \u001b[0;34m=\u001b[0m \u001b[0mpd\u001b[0m\u001b[0;34m.\u001b[0m\u001b[0mread_pickle\u001b[0m\u001b[0;34m(\u001b[0m\u001b[0mtrain_data_path\u001b[0m\u001b[0;34m)\u001b[0m\u001b[0;34m\u001b[0m\u001b[0;34m\u001b[0m\u001b[0m\n\u001b[0m\u001b[1;32m     13\u001b[0m \u001b[0mtest_data\u001b[0m \u001b[0;34m=\u001b[0m \u001b[0mpd\u001b[0m\u001b[0;34m.\u001b[0m\u001b[0mread_pickle\u001b[0m\u001b[0;34m(\u001b[0m\u001b[0mtest_data_path\u001b[0m\u001b[0;34m)\u001b[0m\u001b[0;34m\u001b[0m\u001b[0;34m\u001b[0m\u001b[0m\n\u001b[1;32m     14\u001b[0m \u001b[0;34m\u001b[0m\u001b[0m\n",
            "\u001b[0;32m/usr/local/lib/python3.10/dist-packages/pandas/io/pickle.py\u001b[0m in \u001b[0;36mread_pickle\u001b[0;34m(filepath_or_buffer, compression, storage_options)\u001b[0m\n\u001b[1;32m    177\u001b[0m     \"\"\"\n\u001b[1;32m    178\u001b[0m     \u001b[0mexcs_to_catch\u001b[0m \u001b[0;34m=\u001b[0m \u001b[0;34m(\u001b[0m\u001b[0mAttributeError\u001b[0m\u001b[0;34m,\u001b[0m \u001b[0mImportError\u001b[0m\u001b[0;34m,\u001b[0m \u001b[0mModuleNotFoundError\u001b[0m\u001b[0;34m,\u001b[0m \u001b[0mTypeError\u001b[0m\u001b[0;34m)\u001b[0m\u001b[0;34m\u001b[0m\u001b[0;34m\u001b[0m\u001b[0m\n\u001b[0;32m--> 179\u001b[0;31m     with get_handle(\n\u001b[0m\u001b[1;32m    180\u001b[0m         \u001b[0mfilepath_or_buffer\u001b[0m\u001b[0;34m,\u001b[0m\u001b[0;34m\u001b[0m\u001b[0;34m\u001b[0m\u001b[0m\n\u001b[1;32m    181\u001b[0m         \u001b[0;34m\"rb\"\u001b[0m\u001b[0;34m,\u001b[0m\u001b[0;34m\u001b[0m\u001b[0;34m\u001b[0m\u001b[0m\n",
            "\u001b[0;32m/usr/local/lib/python3.10/dist-packages/pandas/io/common.py\u001b[0m in \u001b[0;36mget_handle\u001b[0;34m(path_or_buf, mode, encoding, compression, memory_map, is_text, errors, storage_options)\u001b[0m\n\u001b[1;32m    866\u001b[0m         \u001b[0;32melse\u001b[0m\u001b[0;34m:\u001b[0m\u001b[0;34m\u001b[0m\u001b[0;34m\u001b[0m\u001b[0m\n\u001b[1;32m    867\u001b[0m             \u001b[0;31m# Binary mode\u001b[0m\u001b[0;34m\u001b[0m\u001b[0;34m\u001b[0m\u001b[0m\n\u001b[0;32m--> 868\u001b[0;31m             \u001b[0mhandle\u001b[0m \u001b[0;34m=\u001b[0m \u001b[0mopen\u001b[0m\u001b[0;34m(\u001b[0m\u001b[0mhandle\u001b[0m\u001b[0;34m,\u001b[0m \u001b[0mioargs\u001b[0m\u001b[0;34m.\u001b[0m\u001b[0mmode\u001b[0m\u001b[0;34m)\u001b[0m\u001b[0;34m\u001b[0m\u001b[0;34m\u001b[0m\u001b[0m\n\u001b[0m\u001b[1;32m    869\u001b[0m         \u001b[0mhandles\u001b[0m\u001b[0;34m.\u001b[0m\u001b[0mappend\u001b[0m\u001b[0;34m(\u001b[0m\u001b[0mhandle\u001b[0m\u001b[0;34m)\u001b[0m\u001b[0;34m\u001b[0m\u001b[0;34m\u001b[0m\u001b[0m\n\u001b[1;32m    870\u001b[0m \u001b[0;34m\u001b[0m\u001b[0m\n",
            "\u001b[0;31mFileNotFoundError\u001b[0m: [Errno 2] No such file or directory: '/content/drive/MyDrive/cs4248_project/processed_data/way7_train.pkl'"
          ]
        }
      ]
    },
    {
      "cell_type": "code",
      "source": [
        "#if pd.read_csv not work, you can try the following\n",
        "# Increase the maximum field size limit\n",
        "csv.field_size_limit(sys.maxsize)\n",
        "\n",
        "trainData = []\n",
        "with open('fulltrain.csv', 'r', encoding='utf-8') as file:\n",
        "    reader = csv.reader(file)\n",
        "    for row in reader:\n",
        "        trainData.append(row)\n",
        "\n",
        "df = pd.DataFrame(trainData, columns=['Label', 'Text'])\n",
        "\n",
        "\n",
        "testData = []\n",
        "with open('balancedtest.csv', 'r', encoding='utf-8') as file:\n",
        "    reader = csv.reader(file)\n",
        "    for row in reader:\n",
        "        testData.append(row)\n",
        "\n",
        "# Convert to DataFrame\n",
        "df2 = pd.DataFrame(testData, columns=['Label', 'Text'])\n",
        "\n",
        "print(df.shape[0])\n",
        "print(df2.shape[0])"
      ],
      "metadata": {
        "id": "_K-i9lzxZGo4"
      },
      "execution_count": null,
      "outputs": []
    },
    {
      "cell_type": "code",
      "source": [
        "print(train_data['category'].value_counts())"
      ],
      "metadata": {
        "colab": {
          "base_uri": "https://localhost:8080/"
        },
        "id": "QrdpqpLzD2Yn",
        "outputId": "4d29840f-7ffe-4f39-ac70-f272bb8d9bbc"
      },
      "execution_count": null,
      "outputs": [
        {
          "output_type": "stream",
          "name": "stdout",
          "text": [
            "category\n",
            "3    17870\n",
            "1    14047\n",
            "4     9995\n",
            "2     6942\n",
            "Name: count, dtype: int64\n"
          ]
        }
      ]
    },
    {
      "cell_type": "code",
      "source": [
        "print(test_data['category'].value_counts())"
      ],
      "metadata": {
        "colab": {
          "base_uri": "https://localhost:8080/"
        },
        "id": "5UTgKI2nD1TZ",
        "outputId": "e47f7320-555c-480d-bc87-1a6380a557dd"
      },
      "execution_count": null,
      "outputs": [
        {
          "output_type": "stream",
          "name": "stdout",
          "text": [
            "category\n",
            "1    750\n",
            "2    750\n",
            "3    750\n",
            "4    750\n",
            "Name: count, dtype: int64\n"
          ]
        }
      ]
    },
    {
      "cell_type": "code",
      "source": [
        "#save data\n",
        "train_data.to_csv('/content/drive/MyDrive/preprocessed_data/way1/train_data.csv',index =False)\n",
        "test_data.to_csv('/content/drive/MyDrive/preprocessed_data/way1/test_data.csv',index = False)"
      ],
      "metadata": {
        "id": "Ymv5qXiFFhpW"
      },
      "execution_count": null,
      "outputs": []
    },
    {
      "cell_type": "code",
      "source": [
        "#data path\n",
        "train_1_path = '/content/drive/MyDrive/preprocessed_data/way1/train_data.csv'\n",
        "test_1_path = '/content/drive/MyDrive/preprocessed_data/way1/test_data.csv'\n",
        "\n",
        "train_1_data = pd.read_csv(train_1_path)\n",
        "test_1_data = pd.read_csv(test_1_path)"
      ],
      "metadata": {
        "id": "mRpDPgy2GCvP"
      },
      "execution_count": null,
      "outputs": []
    },
    {
      "cell_type": "code",
      "source": [
        "print(train_1_data['category'].value_counts())"
      ],
      "metadata": {
        "colab": {
          "base_uri": "https://localhost:8080/"
        },
        "id": "X8RddWAGGKu7",
        "outputId": "045a2cbc-ccbe-49fc-d4c2-5faa895d6358"
      },
      "execution_count": null,
      "outputs": [
        {
          "output_type": "stream",
          "name": "stdout",
          "text": [
            "3    17870\n",
            "1    14047\n",
            "4     9995\n",
            "2     6942\n",
            "Name: category, dtype: int64\n"
          ]
        }
      ]
    },
    {
      "cell_type": "code",
      "source": [
        "print(train_1_data.isnull().sum())"
      ],
      "metadata": {
        "colab": {
          "base_uri": "https://localhost:8080/"
        },
        "id": "EMHOi3cXGMdC",
        "outputId": "6e1beeaf-b068-403e-baee-a674592efced"
      },
      "execution_count": null,
      "outputs": [
        {
          "output_type": "stream",
          "name": "stdout",
          "text": [
            "category    0\n",
            "text        0\n",
            "New_Text    0\n",
            "dtype: int64\n"
          ]
        }
      ]
    },
    {
      "cell_type": "markdown",
      "source": [
        "## Embedding"
      ],
      "metadata": {
        "id": "f_0Cp9ZqfCgU"
      }
    },
    {
      "cell_type": "code",
      "source": [
        "import numpy as np\n",
        "import pandas as pd\n",
        "\n",
        "from tqdm import tqdm\n",
        "from nltk.sentiment.vader import SentimentIntensityAnalyzer\n",
        "from sklearn.feature_extraction.text import TfidfVectorizer\n",
        "from sklearn.decomposition import PCA\n",
        "from gensim.models import KeyedVectors\n",
        "\n",
        "class Embedding:\n",
        "    def __init__(self, doc_embed=True, max_seq_len=100):\n",
        "        self.doc_embed = doc_embed\n",
        "        self.max_seq_len = max_seq_len\n",
        "        self.pca = PCA(n_components=self.max_seq_len)\n",
        "\n",
        "        if self.doc_embed:\n",
        "            self.dim_size = 300\n",
        "            #self.model = KeyedVectors.load('/content/drive/MyDrive/cs4248_project/embeddings/cc.en.300.kv')\n",
        "            self.model = KeyedVectors.load('/content/drive/MyDrive/cs4248_project/embeddings/glove.kv')\n",
        "        else:\n",
        "            self.dim_size = 100\n",
        "            self.model = KeyedVectors.load('/content/drive/MyDrive/cs4248_project/embeddings/cc.en.100.kv')\n",
        "\n",
        "    '''\n",
        "    flags\n",
        "    ------\n",
        "    tfidf: tf-idf weighted word embeddings\n",
        "    sentiment: valence score weighted word embeddings\n",
        "    tfidf_clip: only used for concatenated embeddings (doc_embed=False); clips doc embeddings by using only the top n=max_seq_len words\n",
        "    pca: only used for concatenated embeddings (doc_embed=False); uses PCA to reduce dimensionality along word axis\n",
        "    flatten: only used for concatenated embeddings (doc_embed=False); flattens embedding to 1D\n",
        "    '''\n",
        "    def get_embedding(self, docs, tfidf=False, sentiment=False, tfidf_clip=False, pca=False, flatten=False):\n",
        "        embedded_docs = []\n",
        "        flattened = [[j for sub in doc for j in sub] for doc in docs.iloc[:,-1]]\n",
        "\n",
        "        if tfidf:\n",
        "            vectorizer = TfidfVectorizer(min_df=0, max_df=9999999, lowercase=False, token_pattern=r'(?u)(?<!\\S)\\S+(?!\\S)')\n",
        "            tfidf_scores = vectorizer.fit_transform([' '.join(arr) for arr in flattened])\n",
        "\n",
        "        if sentiment:\n",
        "            vader = SentimentIntensityAnalyzer()\n",
        "\n",
        "        for j, doc in tqdm(docs.iterrows(), total=docs.shape[0]):\n",
        "            doc_embedding = []\n",
        "            tfidf_weights = []\n",
        "            sentiment_weights = []\n",
        "            tokens = flattened[j]\n",
        "\n",
        "            if sentiment:\n",
        "                sentences = doc.iloc[-2]\n",
        "                sent_tokens = doc.iloc[-1]\n",
        "                for i, sentence in enumerate(sentences):\n",
        "                    score = vader.polarity_scores(sentence)['compound']\n",
        "                    if score == 0:\n",
        "                        score = 0.1 # smooth neutral sentences\n",
        "                    if self.doc_embed:\n",
        "                        score = abs(score) # abs to make weight positive and prevent 0 sum when getting mean\n",
        "                    if tfidf:\n",
        "                        n = len([tok for tok in sent_tokens[i] if tok in self.model and tok in vectorizer.vocabulary_])\n",
        "                    else:\n",
        "                        n = len([tok for tok in sent_tokens[i] if tok in self.model])\n",
        "                    sentiment_weights += [score] * n\n",
        "\n",
        "            if tfidf:\n",
        "                for i, token in enumerate(tokens):\n",
        "                    if token in self.model and token in vectorizer.vocabulary_:\n",
        "                        tfidf_weights.append(tfidf_scores[j, vectorizer.vocabulary_[token]])\n",
        "\n",
        "            if tfidf or sentiment:\n",
        "                if tfidf and not sentiment:\n",
        "                    weights = tfidf_weights\n",
        "                elif sentiment and not tfidf:\n",
        "                    weights = sentiment_weights\n",
        "                else: # tfidf and sentiment\n",
        "                    weights = [a*b for a,b in zip(tfidf_weights, sentiment_weights)]\n",
        "                total_weight = sum(weights)\n",
        "\n",
        "            if self.doc_embed:\n",
        "                for token in tokens:\n",
        "                    if token in self.model:\n",
        "                        doc_embedding.append(self.model[token])\n",
        "\n",
        "                if len(doc_embedding) == 0:\n",
        "                    doc_embedding = np.zeros((self.dim_size,))\n",
        "                else:\n",
        "                    if tfidf or sentiment:\n",
        "                        doc_embedding = np.average(doc_embedding, axis=0, weights=weights)\n",
        "                    else:\n",
        "                        doc_embedding = np.mean(doc_embedding, axis=0)\n",
        "            else:\n",
        "                if tfidf or sentiment:\n",
        "                    k = 0\n",
        "                    weights = [w / total_weight for w in weights]\n",
        "                    if tfidf:\n",
        "                        for token in tokens:\n",
        "                            if token in self.model and token in vectorizer.vocabulary_:\n",
        "                                doc_embedding.append(self.model[token] * weights[k])\n",
        "                                k += 1\n",
        "                    else:\n",
        "                        for token in tokens:\n",
        "                            if token in self.model:\n",
        "                                doc_embedding.append(self.model[token] * weights[k])\n",
        "                                k += 1\n",
        "                else:\n",
        "                    for token in tokens:\n",
        "                        if token in self.model:\n",
        "                            doc_embedding.append(self.model[token])\n",
        "\n",
        "                if len(doc_embedding) == 0:\n",
        "                    if flatten:\n",
        "                        doc_embedding = np.zeros((self.max_seq_len * self.dim_size))\n",
        "                    else:\n",
        "                        doc_embedding = np.zeros((self.max_seq_len, self.dim_size))\n",
        "                else:\n",
        "                    doc_embedding = self.pad(doc_embedding, tfidf_weights, tfidf_clip, pca, flatten)\n",
        "\n",
        "            embedded_docs.append(doc_embedding)\n",
        "\n",
        "        return embedded_docs\n",
        "\n",
        "\n",
        "    def pad(self, doc, weights, tfidf_clip=False, pca=False, flatten=True):\n",
        "        if len(doc) < self.max_seq_len:\n",
        "            doc = np.array(doc)\n",
        "            zeros = np.zeros((self.max_seq_len - len(doc), self.dim_size))\n",
        "            doc = np.vstack((doc, zeros))\n",
        "        elif len(doc) > self.max_seq_len:\n",
        "            if tfidf_clip and len(weights) > 0:\n",
        "                #print('tfidf clipping')\n",
        "                doc = np.array(self.tfidf_clip(doc, weights))\n",
        "            elif pca:\n",
        "                doc = np.array(doc).T\n",
        "                doc = self.pca.fit_transform(doc)\n",
        "                #print('pca clipping')\n",
        "                doc = doc.T\n",
        "            else:\n",
        "                #print('normal clipping')\n",
        "                doc = np.array(doc[:self.max_seq_len])\n",
        "        else:\n",
        "            doc = np.array(doc)\n",
        "\n",
        "        return doc.flatten() if flatten else doc\n",
        "\n",
        "\n",
        "    def tfidf_clip(self, doc, weights):\n",
        "        new_doc = []\n",
        "        sorted = weights.copy()\n",
        "        sorted.sort(reverse=True)\n",
        "        min_weight = sorted[self.max_seq_len-1]\n",
        "\n",
        "        for i in range(len(doc)):\n",
        "            if weights[i] >= min_weight and len(new_doc) < self.max_seq_len:\n",
        "                new_doc.append(doc[i])\n",
        "\n",
        "        return new_doc\n",
        "\n",
        "\n",
        "    def save_embedding(self, docs, tfidf=False, sentiment=False, tfidf_clip=False, pca=False, flatten=False, path=None):\n",
        "        embedded_docs = self.get_embedding(docs, tfidf, sentiment, tfidf_clip, pca, flatten)\n",
        "        new_docs = docs.drop(docs.columns[-len(docs.columns)+1:], axis=1, inplace=False)\n",
        "        new_docs['embeddings'] = embedded_docs\n",
        "\n",
        "        if path:\n",
        "            new_docs.to_pickle(path)\n",
        "        else:\n",
        "            string = f'{\"doc\" if self.doc_embed else \"concat\"}{\"_tfidf\" if tfidf else \"\"}{\"_sent\" if sentiment else \"\"}{\"_tfidfClip\" if tfidf_clip else \"\"}{\"_pca\" if pca else \"\"}{\"_flat\" if flatten else \"\"}.pkl'\n",
        "            new_docs.to_pickle(string)\n"
      ],
      "metadata": {
        "id": "Ya4wt7VZj6q0"
      },
      "execution_count": null,
      "outputs": []
    },
    {
      "cell_type": "code",
      "source": [
        "import pandas as pd\n",
        "\n",
        "# will take a minute or two to load vectors\n",
        "# for doc embedding of dimensions (num_samples, 300)\n",
        "embed = Embedding(doc_embed=True, max_seq_len=100)\n"
      ],
      "metadata": {
        "id": "0iuhjtmZb5Rw"
      },
      "execution_count": null,
      "outputs": []
    },
    {
      "cell_type": "code",
      "source": [
        "import pandas as pd\n",
        "\n",
        "# will take a minute or two to load vectors\n",
        "# for doc embedding of dimensions (num_samples, max_seq_len, 100)\n",
        "embed = Embedding(doc_embed=False, max_seq_len=100)\n"
      ],
      "metadata": {
        "id": "dPcdJLxClP5t"
      },
      "execution_count": null,
      "outputs": []
    },
    {
      "cell_type": "code",
      "source": [
        "#df = pd.read_pickle('/content/drive/MyDrive/processed_datasets_cs4248/way1_test.pkl')\n",
        "\n",
        "# get embeddings\n",
        "train = embed.get_embedding(train_data, tfidf=False, sentiment=False, tfidf_clip=False, pca=False)\n",
        "test = embed.get_embedding(test_data, tfidf=False, sentiment=False, tfidf_clip=False, pca=False)\n"
      ],
      "metadata": {
        "id": "9BKW-8cechsC",
        "colab": {
          "base_uri": "https://localhost:8080/"
        },
        "outputId": "c7d55c3e-f66d-4f94-cd5f-f14e961ad35a"
      },
      "execution_count": null,
      "outputs": [
        {
          "output_type": "stream",
          "name": "stderr",
          "text": [
            "100%|██████████| 48854/48854 [01:24<00:00, 577.52it/s] \n",
            "100%|██████████| 3000/3000 [00:04<00:00, 650.89it/s]\n"
          ]
        }
      ]
    },
    {
      "cell_type": "code",
      "source": [
        "df = pd.read_pickle('/content/drive/MyDrive/cs4248_project/processed_data/way12_test.pkl')\n",
        "#embed.save_embedding(df, tfidf=False, sentiment=False, path='/content/drive/MyDrive/cs4248_project/embeddings/doc_glove/way12_test_doc.pkl')\n",
        "embed.save_embedding(df, tfidf=True, sentiment=False, path='/content/drive/MyDrive/cs4248_project/embeddings/doc_glove/way12_test_doc_tfidf.pkl')\n",
        "embed.save_embedding(df, tfidf=False, sentiment=True, path='/content/drive/MyDrive/cs4248_project/embeddings/doc_glove/way12_test_doc_sent.pkl')\n",
        "embed.save_embedding(df, tfidf=True, sentiment=True, path='/content/drive/MyDrive/cs4248_project/embeddings/doc_glove/way12_test_doc_tfidf_sent.pkl')\n"
      ],
      "metadata": {
        "colab": {
          "base_uri": "https://localhost:8080/"
        },
        "id": "8EqWX5orOh3Y",
        "outputId": "aa60b56b-d2ac-463e-9e30-5c84ebb4a3da"
      },
      "execution_count": null,
      "outputs": [
        {
          "output_type": "stream",
          "name": "stderr",
          "text": [
            "100%|██████████| 3000/3000 [00:25<00:00, 116.37it/s]\n",
            "100%|██████████| 3000/3000 [00:31<00:00, 94.40it/s]\n",
            "100%|██████████| 3000/3000 [00:52<00:00, 57.39it/s]\n"
          ]
        }
      ]
    },
    {
      "cell_type": "code",
      "source": [
        "df = pd.read_pickle('/content/drive/MyDrive/cs4248_project/processed_data/way13_test.pkl')\n",
        "#embed.save_embedding(df, tfidf=False, sentiment=False, path='/content/drive/MyDrive/cs4248_project/embeddings/doc_glove/way13_test_doc.pkl')\n",
        "embed.save_embedding(df, tfidf=True, sentiment=False, path='/content/drive/MyDrive/cs4248_project/embeddings/doc_glove/way13_test_doc_tfidf.pkl')\n",
        "embed.save_embedding(df, tfidf=False, sentiment=True, path='/content/drive/MyDrive/cs4248_project/embeddings/doc_glove/way13_test_doc_sent.pkl')\n",
        "embed.save_embedding(df, tfidf=True, sentiment=True, path='/content/drive/MyDrive/cs4248_project/embeddings/doc_glove/way13_test_doc_tfidf_sent.pkl')\n"
      ],
      "metadata": {
        "colab": {
          "base_uri": "https://localhost:8080/"
        },
        "id": "T9jQflDhPdBp",
        "outputId": "51cd04d5-0379-4975-aa0a-f94f3c7925a8"
      },
      "execution_count": null,
      "outputs": [
        {
          "output_type": "stream",
          "name": "stderr",
          "text": [
            "100%|██████████| 3000/3000 [00:24<00:00, 121.26it/s]\n",
            "100%|██████████| 3000/3000 [00:30<00:00, 97.12it/s] \n",
            "100%|██████████| 3000/3000 [00:51<00:00, 58.05it/s]\n"
          ]
        }
      ]
    },
    {
      "cell_type": "code",
      "source": [
        "df = pd.read_pickle('/content/drive/MyDrive/cs4248_project/processed_data/way12_train.pkl')\n",
        "#embed.save_embedding(df, tfidf=False, sentiment=False, path='/content/drive/MyDrive/cs4248_project/embeddings/doc_glove/way12_train_doc.pkl')\n",
        "embed.save_embedding(df, tfidf=True, sentiment=False, path='/content/drive/MyDrive/cs4248_project/embeddings/doc_glove/way12_train_doc_tfidf.pkl')\n",
        "embed.save_embedding(df, tfidf=False, sentiment=True, path='/content/drive/MyDrive/cs4248_project/embeddings/doc_glove/way12_train_doc_sent.pkl')\n",
        "embed.save_embedding(df, tfidf=True, sentiment=True, path='/content/drive/MyDrive/cs4248_project/embeddings/doc_glove/way12_train_doc_tfidf_sent.pkl')\n"
      ],
      "metadata": {
        "colab": {
          "base_uri": "https://localhost:8080/"
        },
        "id": "ExXG3z6rPh1h",
        "outputId": "2a78d50e-cc60-43a8-b438-82ab6238f72f"
      },
      "execution_count": null,
      "outputs": [
        {
          "output_type": "stream",
          "name": "stderr",
          "text": [
            "100%|██████████| 48854/48854 [07:23<00:00, 110.22it/s]\n",
            "100%|██████████| 48854/48854 [08:51<00:00, 91.99it/s] \n",
            "100%|██████████| 48854/48854 [15:16<00:00, 53.33it/s] \n"
          ]
        }
      ]
    },
    {
      "cell_type": "code",
      "source": [
        "df = pd.read_pickle('/content/drive/MyDrive/cs4248_project/processed_data/way13_train.pkl')\n",
        "#embed.save_embedding(df, tfidf=False, sentiment=False, path='/content/drive/MyDrive/cs4248_project/embeddings/doc_glove/way13_train_doc.pkl')\n",
        "embed.save_embedding(df, tfidf=True, sentiment=False, path='/content/drive/MyDrive/cs4248_project/embeddings/doc_glove/way13_train_doc_tfidf.pkl')\n",
        "embed.save_embedding(df, tfidf=False, sentiment=True, path='/content/drive/MyDrive/cs4248_project/embeddings/doc_glove/way13_train_doc_sent.pkl')\n",
        "embed.save_embedding(df, tfidf=True, sentiment=True, path='/content/drive/MyDrive/cs4248_project/embeddings/doc_glove/way13_train_doc_tfidf_sent.pkl')\n"
      ],
      "metadata": {
        "colab": {
          "base_uri": "https://localhost:8080/"
        },
        "id": "1ysnBJs_PnYS",
        "outputId": "37940865-2f9e-4042-b261-96a123a89751"
      },
      "execution_count": null,
      "outputs": [
        {
          "output_type": "stream",
          "name": "stderr",
          "text": [
            "100%|██████████| 48854/48854 [07:16<00:00, 112.04it/s]\n",
            "100%|██████████| 48854/48854 [08:56<00:00, 91.10it/s] \n"
          ]
        }
      ]
    },
    {
      "cell_type": "code",
      "source": [
        "import nltk\n",
        "nltk.download('vader_lexicon')"
      ],
      "metadata": {
        "colab": {
          "base_uri": "https://localhost:8080/"
        },
        "id": "rXAlVxabA-9v",
        "outputId": "c45f0487-45d8-408f-db0f-ad7b6f9f14e2"
      },
      "execution_count": null,
      "outputs": [
        {
          "output_type": "stream",
          "name": "stderr",
          "text": [
            "[nltk_data] Downloading package vader_lexicon to /root/nltk_data...\n"
          ]
        },
        {
          "output_type": "execute_result",
          "data": {
            "text/plain": [
              "True"
            ]
          },
          "metadata": {},
          "execution_count": 4
        }
      ]
    },
    {
      "cell_type": "code",
      "source": [
        "'''\n",
        "Embeddings can be found here:\n",
        "/content/drive/MyDrive/processed_datasets_cs4248/embeddings\n",
        "\n",
        "doc embeddings (num_samples, 300)\n",
        "--------------------------------------------\n",
        "/content/drive/MyDrive/processed_datasets_cs4248/embeddings/doc\n",
        "/content/drive/MyDrive/processed_datasets_cs4248/embeddings/doc_tfidf\n",
        "/content/drive/MyDrive/processed_datasets_cs4248/embeddings/doc_sent\n",
        "/content/drive/MyDrive/processed_datasets_cs4248/embeddings/doc_tfidf_sent\n",
        "\n",
        "tfidf: tf-idf weighted\n",
        "sent: sentiment weighted\n",
        "tfidf_sent: both\n",
        "\n",
        "\n",
        "concat embeddings (num_samples, 200, 100)\n",
        "--------------------------------------------\n",
        "/content/drive/MyDrive/processed_datasets_cs4248/embeddings/doc/concat\n",
        "\n",
        "'''"
      ],
      "metadata": {
        "id": "LVo7YBn1tBiy"
      },
      "execution_count": null,
      "outputs": []
    },
    {
      "cell_type": "code",
      "source": [
        "train_array = np.array(train)\n",
        "test_array = np.array(test)\n",
        "np.save('/content/drive/My Drive/cs4248_project/embeddings/train_way7.npy', train_array)\n",
        "np.save('/content/drive/My Drive/cs4248_project/embeddings/test_way7.npy', test_array)"
      ],
      "metadata": {
        "id": "x_YJeT17HO-J"
      },
      "execution_count": null,
      "outputs": []
    },
    {
      "cell_type": "markdown",
      "source": [
        "## Models"
      ],
      "metadata": {
        "id": "ulvopipVfI4_"
      }
    },
    {
      "cell_type": "markdown",
      "source": [
        "### Naive Bayes"
      ],
      "metadata": {
        "id": "b4aSySF7f6H2"
      }
    },
    {
      "cell_type": "code",
      "source": [
        "from sklearn.naive_bayes import MultinomialNB,BernoulliNB,GaussianNB\n",
        "from sklearn.model_selection import train_test_split\n",
        "#‘newton-cg’, ‘lbfgs’, ‘liblinear’, ‘sag’, ‘saga’\n",
        "\n",
        "base_path = '/content/drive/MyDrive/cs4248_project/embeddings/doc_w2v/'\n",
        "way = 'way7'\n",
        "\n",
        "train_data2 = pd.read_pickle(f'{base_path}{way}_train_doc.pkl')\n",
        "test_data2 = pd.read_pickle(f'{base_path}{way}_test_doc.pkl')\n",
        "\n",
        "\n",
        "#for way 6-11, change 'category' to 'Label'\n",
        "train2 = train_data2['embeddings']\n",
        "test2 = test_data2['embeddings']\n",
        "\n",
        "y = train_data2['Label'].astype(int)\n",
        "y2 = test_data2['Label'].astype(int)\n",
        "\n",
        "# y = train_data2['category']\n",
        "# y2 = test_data2['category']\n",
        "\n",
        "\n",
        "X_train, X_test, y_train, y_test = train_test_split(train2, y, test_size=0.25, random_state=42)\n",
        "\n",
        "X_train2, X_test2, y_train2, y_test2 = train_test_split(test2, y2, test_size=0.25, random_state=42)\n",
        "\n",
        "X_train_flat = np.concatenate(X_train.values)\n",
        "X_test2_flat = np.concatenate(X_test2.values)\n",
        "\n",
        "X_train_flat = X_train_flat.reshape(len(X_train), -1)\n",
        "X_test2_flat = X_test2_flat.reshape(len(X_test2), -1)\n",
        "\n",
        "# min_value = np.min(X_train_flat)\n",
        "# shift_value = abs(min_value) if min_value < 0 else 0\n",
        "\n",
        "# X_train_shifted = X_train_flat + shift_value\n",
        "# X_test_shifted = X_test2_flat + shift_value\n",
        "\n",
        "pac = GaussianNB()\n",
        "# X_train_shifted\n",
        "pac.fit(X_train_flat,y_train)"
      ],
      "metadata": {
        "id": "1WjnltjAyAHl",
        "colab": {
          "base_uri": "https://localhost:8080/",
          "height": 75
        },
        "outputId": "44f44ac6-0313-4a8a-c6a3-dbb40724b8cf"
      },
      "execution_count": null,
      "outputs": [
        {
          "output_type": "execute_result",
          "data": {
            "text/plain": [
              "GaussianNB()"
            ],
            "text/html": [
              "<style>#sk-container-id-9 {color: black;background-color: white;}#sk-container-id-9 pre{padding: 0;}#sk-container-id-9 div.sk-toggleable {background-color: white;}#sk-container-id-9 label.sk-toggleable__label {cursor: pointer;display: block;width: 100%;margin-bottom: 0;padding: 0.3em;box-sizing: border-box;text-align: center;}#sk-container-id-9 label.sk-toggleable__label-arrow:before {content: \"▸\";float: left;margin-right: 0.25em;color: #696969;}#sk-container-id-9 label.sk-toggleable__label-arrow:hover:before {color: black;}#sk-container-id-9 div.sk-estimator:hover label.sk-toggleable__label-arrow:before {color: black;}#sk-container-id-9 div.sk-toggleable__content {max-height: 0;max-width: 0;overflow: hidden;text-align: left;background-color: #f0f8ff;}#sk-container-id-9 div.sk-toggleable__content pre {margin: 0.2em;color: black;border-radius: 0.25em;background-color: #f0f8ff;}#sk-container-id-9 input.sk-toggleable__control:checked~div.sk-toggleable__content {max-height: 200px;max-width: 100%;overflow: auto;}#sk-container-id-9 input.sk-toggleable__control:checked~label.sk-toggleable__label-arrow:before {content: \"▾\";}#sk-container-id-9 div.sk-estimator input.sk-toggleable__control:checked~label.sk-toggleable__label {background-color: #d4ebff;}#sk-container-id-9 div.sk-label input.sk-toggleable__control:checked~label.sk-toggleable__label {background-color: #d4ebff;}#sk-container-id-9 input.sk-hidden--visually {border: 0;clip: rect(1px 1px 1px 1px);clip: rect(1px, 1px, 1px, 1px);height: 1px;margin: -1px;overflow: hidden;padding: 0;position: absolute;width: 1px;}#sk-container-id-9 div.sk-estimator {font-family: monospace;background-color: #f0f8ff;border: 1px dotted black;border-radius: 0.25em;box-sizing: border-box;margin-bottom: 0.5em;}#sk-container-id-9 div.sk-estimator:hover {background-color: #d4ebff;}#sk-container-id-9 div.sk-parallel-item::after {content: \"\";width: 100%;border-bottom: 1px solid gray;flex-grow: 1;}#sk-container-id-9 div.sk-label:hover label.sk-toggleable__label {background-color: #d4ebff;}#sk-container-id-9 div.sk-serial::before {content: \"\";position: absolute;border-left: 1px solid gray;box-sizing: border-box;top: 0;bottom: 0;left: 50%;z-index: 0;}#sk-container-id-9 div.sk-serial {display: flex;flex-direction: column;align-items: center;background-color: white;padding-right: 0.2em;padding-left: 0.2em;position: relative;}#sk-container-id-9 div.sk-item {position: relative;z-index: 1;}#sk-container-id-9 div.sk-parallel {display: flex;align-items: stretch;justify-content: center;background-color: white;position: relative;}#sk-container-id-9 div.sk-item::before, #sk-container-id-9 div.sk-parallel-item::before {content: \"\";position: absolute;border-left: 1px solid gray;box-sizing: border-box;top: 0;bottom: 0;left: 50%;z-index: -1;}#sk-container-id-9 div.sk-parallel-item {display: flex;flex-direction: column;z-index: 1;position: relative;background-color: white;}#sk-container-id-9 div.sk-parallel-item:first-child::after {align-self: flex-end;width: 50%;}#sk-container-id-9 div.sk-parallel-item:last-child::after {align-self: flex-start;width: 50%;}#sk-container-id-9 div.sk-parallel-item:only-child::after {width: 0;}#sk-container-id-9 div.sk-dashed-wrapped {border: 1px dashed gray;margin: 0 0.4em 0.5em 0.4em;box-sizing: border-box;padding-bottom: 0.4em;background-color: white;}#sk-container-id-9 div.sk-label label {font-family: monospace;font-weight: bold;display: inline-block;line-height: 1.2em;}#sk-container-id-9 div.sk-label-container {text-align: center;}#sk-container-id-9 div.sk-container {/* jupyter's `normalize.less` sets `[hidden] { display: none; }` but bootstrap.min.css set `[hidden] { display: none !important; }` so we also need the `!important` here to be able to override the default hidden behavior on the sphinx rendered scikit-learn.org. See: https://github.com/scikit-learn/scikit-learn/issues/21755 */display: inline-block !important;position: relative;}#sk-container-id-9 div.sk-text-repr-fallback {display: none;}</style><div id=\"sk-container-id-9\" class=\"sk-top-container\"><div class=\"sk-text-repr-fallback\"><pre>GaussianNB()</pre><b>In a Jupyter environment, please rerun this cell to show the HTML representation or trust the notebook. <br />On GitHub, the HTML representation is unable to render, please try loading this page with nbviewer.org.</b></div><div class=\"sk-container\" hidden><div class=\"sk-item\"><div class=\"sk-estimator sk-toggleable\"><input class=\"sk-toggleable__control sk-hidden--visually\" id=\"sk-estimator-id-9\" type=\"checkbox\" checked><label for=\"sk-estimator-id-9\" class=\"sk-toggleable__label sk-toggleable__label-arrow\">GaussianNB</label><div class=\"sk-toggleable__content\"><pre>GaussianNB()</pre></div></div></div></div></div>"
            ]
          },
          "metadata": {},
          "execution_count": 28
        }
      ]
    },
    {
      "cell_type": "code",
      "source": [
        "y_pred = pac.predict(X_test2_flat)\n",
        "\n",
        "acc = accuracy_score(y_test2, y_pred)\n",
        "acc = accuracy_score(y_test2, y_pred)\n",
        "score = f1_score(y_test2, y_pred, average='micro')\n",
        "classify = classification_report(y_test2, y_pred)\n",
        "\n",
        "print('score on validation = {}'.format(score))\n",
        "print('score on accuracy = {}'.format(acc))\n",
        "print('classfication report = {}'.format(classify))"
      ],
      "metadata": {
        "colab": {
          "base_uri": "https://localhost:8080/"
        },
        "id": "JqeVAPTXEzHs",
        "outputId": "1b883c2c-c1b8-470a-991a-08fc6ad38f75"
      },
      "execution_count": null,
      "outputs": [
        {
          "output_type": "stream",
          "name": "stdout",
          "text": [
            "score on validation = 0.5626666666666666\n",
            "score on accuracy = 0.5626666666666666\n",
            "classfication report =               precision    recall  f1-score   support\n",
            "\n",
            "           1       0.48      0.50      0.49       200\n",
            "           2       0.52      0.76      0.62       185\n",
            "           3       0.67      0.40      0.51       178\n",
            "           4       0.68      0.58      0.63       187\n",
            "\n",
            "    accuracy                           0.56       750\n",
            "   macro avg       0.59      0.56      0.56       750\n",
            "weighted avg       0.58      0.56      0.56       750\n",
            "\n"
          ]
        }
      ]
    },
    {
      "cell_type": "markdown",
      "source": [
        "### Bert"
      ],
      "metadata": {
        "id": "ha3x4v8gj_EN"
      }
    },
    {
      "cell_type": "code",
      "source": [
        "# pip install transformers"
      ],
      "metadata": {
        "id": "jiTCIGTjrsck"
      },
      "execution_count": null,
      "outputs": []
    },
    {
      "cell_type": "code",
      "source": [
        "from sklearn.model_selection import train_test_split\n",
        "from transformers import BertTokenizerFast, AutoModel\n",
        "\n",
        "#‘newton-cg’, ‘lbfgs’, ‘liblinear’, ‘sag’, ‘saga’\n",
        "\n",
        "base_path = '/content/drive/MyDrive/cs4248_project/embeddings/doc_w2v/'\n",
        "way = 'way7'\n",
        "\n",
        "train_data2 = pd.read_pickle(f'{base_path}{way}_train_doc.pkl')\n",
        "test_data2 = pd.read_pickle(f'{base_path}{way}_test_doc.pkl')\n",
        "\n",
        "\n",
        "#for way 6-11, change 'category' to 'Label'\n",
        "train2 = train_data2['embeddings']\n",
        "test2 = test_data2['embeddings']\n",
        "\n",
        "y = train_data2['Label'].astype(int)\n",
        "y2 = test_data2['Label'].astype(int)\n",
        "\n",
        "# y = train_data2['category']\n",
        "# y2 = test_data2['category']\n",
        "\n",
        "\n",
        "X_train, X_test, y_train, y_test = train_test_split(train2, y, test_size=0.2, random_state=42)\n",
        "\n",
        "X_train2, X_test2, y_train2, y_test2 = train_test_split(test2, y2, test_size=0.2, random_state=42)\n",
        "\n",
        "X_train_flat = np.concatenate(X_train.values)\n",
        "X_train2_flat = np.concatenate(X_train2.values)\n",
        "X_test2_flat = np.concatenate(X_test2.values)\n",
        "\n",
        "X_train_flat = X_train_flat.reshape(len(X_train), -1)\n",
        "X_train2_flat = X_train2_flat.reshape(len(X_train2), -1)\n",
        "X_test2_flat = X_test2_flat.reshape(len(X_test2), -1)\n",
        "\n",
        "\n",
        "bert = AutoModel.from_pretrained('bert-base-uncased')\n",
        "tokenizer = BertTokenizerFast.from_pretrained('bert-base-uncased')\n",
        "\n"
      ],
      "metadata": {
        "colab": {
          "base_uri": "https://localhost:8080/"
        },
        "id": "ggp7A0-Ej-gj",
        "outputId": "c3d161bf-831a-43e5-d1a9-f160fcb69cfe"
      },
      "execution_count": null,
      "outputs": [
        {
          "output_type": "stream",
          "name": "stderr",
          "text": [
            "/usr/local/lib/python3.10/dist-packages/huggingface_hub/utils/_token.py:88: UserWarning: \n",
            "The secret `HF_TOKEN` does not exist in your Colab secrets.\n",
            "To authenticate with the Hugging Face Hub, create a token in your settings tab (https://huggingface.co/settings/tokens), set it as secret in your Google Colab and restart your session.\n",
            "You will be able to reuse this secret in all of your notebooks.\n",
            "Please note that authentication is recommended but still optional to access public models or datasets.\n",
            "  warnings.warn(\n"
          ]
        }
      ]
    },
    {
      "cell_type": "code",
      "source": [
        "X_train_flat"
      ],
      "metadata": {
        "colab": {
          "base_uri": "https://localhost:8080/"
        },
        "id": "iaWWTfL9xAu4",
        "outputId": "9961176c-0695-4a90-f750-190a44293177"
      },
      "execution_count": null,
      "outputs": [
        {
          "output_type": "execute_result",
          "data": {
            "text/plain": [
              "array([[-0.03903151,  0.0622579 ,  0.00368602, ..., -0.02185267,\n",
              "         0.08219492,  0.01165268],\n",
              "       [ 0.01871996,  0.03515002,  0.00644678, ..., -0.01738133,\n",
              "         0.03611112, -0.03606717],\n",
              "       [-0.05454301,  0.06354701,  0.04913   , ...,  0.01040529,\n",
              "         0.05820785, -0.02638536],\n",
              "       ...,\n",
              "       [-0.09863281, -0.32421875, -0.18359375, ..., -0.26171875,\n",
              "         0.05004883, -0.26367188],\n",
              "       [ 0.04457702,  0.07639483,  0.01971005, ..., -0.03051542,\n",
              "         0.062351  , -0.026701  ],\n",
              "       [ 0.03588466,  0.04042066,  0.03650536, ..., -0.05013757,\n",
              "         0.09530168,  0.01127993]])"
            ]
          },
          "metadata": {},
          "execution_count": 36
        }
      ]
    },
    {
      "cell_type": "code",
      "source": [
        "# Tokenize and encode sequences in the train set\n",
        "tokens_train = tokenizer.batch_encode_plus(\n",
        "    X_train_flat.tolist(),\n",
        "    padding='longest',\n",
        "    truncation=True\n",
        ")\n",
        "\n",
        "# tokenize and encode sequences in the validation set\n",
        "tokens_val = tokenizer.batch_encode_plus(\n",
        "    X_train2_flat.tolist(),\n",
        "    padding='longest',\n",
        "    truncation=True\n",
        ")\n",
        "\n",
        "# tokenize and encode sequences in the test set\n",
        "tokens_test = tokenizer.batch_encode_plus(\n",
        "    X_test2_flat.tolist(),\n",
        "    padding='longest',\n",
        "    truncation=True\n",
        ")"
      ],
      "metadata": {
        "colab": {
          "base_uri": "https://localhost:8080/",
          "height": 418
        },
        "id": "ZSvdtrt0rZLa",
        "outputId": "da668835-3ab4-4dce-f223-4567505ca954"
      },
      "execution_count": null,
      "outputs": [
        {
          "output_type": "error",
          "ename": "TypeError",
          "evalue": "TextEncodeInput must be Union[TextInputSequence, Tuple[InputSequence, InputSequence]]",
          "traceback": [
            "\u001b[0;31m---------------------------------------------------------------------------\u001b[0m",
            "\u001b[0;31mTypeError\u001b[0m                                 Traceback (most recent call last)",
            "\u001b[0;32m<ipython-input-35-1a60ce625043>\u001b[0m in \u001b[0;36m<cell line: 2>\u001b[0;34m()\u001b[0m\n\u001b[1;32m      1\u001b[0m \u001b[0;31m# Tokenize and encode sequences in the train set\u001b[0m\u001b[0;34m\u001b[0m\u001b[0;34m\u001b[0m\u001b[0m\n\u001b[0;32m----> 2\u001b[0;31m tokens_train = tokenizer.batch_encode_plus(\n\u001b[0m\u001b[1;32m      3\u001b[0m     \u001b[0mX_train_flat\u001b[0m\u001b[0;34m.\u001b[0m\u001b[0mtolist\u001b[0m\u001b[0;34m(\u001b[0m\u001b[0;34m)\u001b[0m\u001b[0;34m,\u001b[0m\u001b[0;34m\u001b[0m\u001b[0;34m\u001b[0m\u001b[0m\n\u001b[1;32m      4\u001b[0m     \u001b[0mpadding\u001b[0m\u001b[0;34m=\u001b[0m\u001b[0;34m'longest'\u001b[0m\u001b[0;34m,\u001b[0m\u001b[0;34m\u001b[0m\u001b[0;34m\u001b[0m\u001b[0m\n\u001b[1;32m      5\u001b[0m     \u001b[0mtruncation\u001b[0m\u001b[0;34m=\u001b[0m\u001b[0;32mTrue\u001b[0m\u001b[0;34m\u001b[0m\u001b[0;34m\u001b[0m\u001b[0m\n",
            "\u001b[0;32m/usr/local/lib/python3.10/dist-packages/transformers/tokenization_utils_base.py\u001b[0m in \u001b[0;36mbatch_encode_plus\u001b[0;34m(self, batch_text_or_text_pairs, add_special_tokens, padding, truncation, max_length, stride, is_split_into_words, pad_to_multiple_of, return_tensors, return_token_type_ids, return_attention_mask, return_overflowing_tokens, return_special_tokens_mask, return_offsets_mapping, return_length, verbose, **kwargs)\u001b[0m\n\u001b[1;32m   3104\u001b[0m         )\n\u001b[1;32m   3105\u001b[0m \u001b[0;34m\u001b[0m\u001b[0m\n\u001b[0;32m-> 3106\u001b[0;31m         return self._batch_encode_plus(\n\u001b[0m\u001b[1;32m   3107\u001b[0m             \u001b[0mbatch_text_or_text_pairs\u001b[0m\u001b[0;34m=\u001b[0m\u001b[0mbatch_text_or_text_pairs\u001b[0m\u001b[0;34m,\u001b[0m\u001b[0;34m\u001b[0m\u001b[0;34m\u001b[0m\u001b[0m\n\u001b[1;32m   3108\u001b[0m             \u001b[0madd_special_tokens\u001b[0m\u001b[0;34m=\u001b[0m\u001b[0madd_special_tokens\u001b[0m\u001b[0;34m,\u001b[0m\u001b[0;34m\u001b[0m\u001b[0;34m\u001b[0m\u001b[0m\n",
            "\u001b[0;32m/usr/local/lib/python3.10/dist-packages/transformers/tokenization_utils_fast.py\u001b[0m in \u001b[0;36m_batch_encode_plus\u001b[0;34m(self, batch_text_or_text_pairs, add_special_tokens, padding_strategy, truncation_strategy, max_length, stride, is_split_into_words, pad_to_multiple_of, return_tensors, return_token_type_ids, return_attention_mask, return_overflowing_tokens, return_special_tokens_mask, return_offsets_mapping, return_length, verbose)\u001b[0m\n\u001b[1;32m    502\u001b[0m         )\n\u001b[1;32m    503\u001b[0m \u001b[0;34m\u001b[0m\u001b[0m\n\u001b[0;32m--> 504\u001b[0;31m         encodings = self._tokenizer.encode_batch(\n\u001b[0m\u001b[1;32m    505\u001b[0m             \u001b[0mbatch_text_or_text_pairs\u001b[0m\u001b[0;34m,\u001b[0m\u001b[0;34m\u001b[0m\u001b[0;34m\u001b[0m\u001b[0m\n\u001b[1;32m    506\u001b[0m             \u001b[0madd_special_tokens\u001b[0m\u001b[0;34m=\u001b[0m\u001b[0madd_special_tokens\u001b[0m\u001b[0;34m,\u001b[0m\u001b[0;34m\u001b[0m\u001b[0;34m\u001b[0m\u001b[0m\n",
            "\u001b[0;31mTypeError\u001b[0m: TextEncodeInput must be Union[TextInputSequence, Tuple[InputSequence, InputSequence]]"
          ]
        }
      ]
    },
    {
      "cell_type": "markdown",
      "source": [
        "### LogisticRegression"
      ],
      "metadata": {
        "id": "O1_aA8UTgCcP"
      }
    },
    {
      "cell_type": "code",
      "source": [
        "from sklearn.linear_model import LogisticRegression\n",
        "from imblearn.over_sampling import SMOTE\n",
        "from sklearn.model_selection import train_test_split\n",
        "from collections import Counter\n",
        "#‘newton-cg’, ‘lbfgs’, ‘liblinear’, ‘sag’, ‘saga’\n",
        "\n",
        "base_path = '/content/drive/MyDrive/cs4248_project/embeddings/doc_w2v/'\n",
        "way = 'way7'\n",
        "\n",
        "train_data2 = pd.read_pickle(f'{base_path}{way}_train_doc.pkl')\n",
        "test_data2 = pd.read_pickle(f'{base_path}{way}_test_doc.pkl')\n",
        "\n",
        "\n",
        "#for way 6-11, change 'category' to 'Label'\n",
        "train2 = train_data2['embeddings']\n",
        "test2 = test_data2['embeddings']\n",
        "\n",
        "#smote = SMOTE(sampling_strategy={2: 6200}, random_state=4248)\n",
        "\n",
        "y = train_data2['Label'].astype(int)\n",
        "y2 = test_data2['Label'].astype(int)\n",
        "\n",
        "# y = train_data2['category']\n",
        "# y2 = test_data2['category']\n",
        "\n",
        "\n",
        "X_train, X_test, y_train, y_test = train_test_split(train2, y, test_size=0.25, random_state=42)\n",
        "\n",
        "X_train2, X_test2, y_train2, y_test2 = train_test_split(test2, y2, test_size=0.25, random_state=42)\n",
        "\n",
        "\n",
        "X_train_flat = np.concatenate(list(X_train.values))\n",
        "X_test2_flat = np.concatenate(list(X_test2.values))\n",
        "\n",
        "X_train_flat = X_train_flat.reshape(len(X_train), -1)\n",
        "X_test2_flat = X_test2_flat.reshape(len(X_test2), -1)\n",
        "\n",
        "#X_train_res, y_train_res = smote.fit_resample(X_train_flat, y_train)\n",
        "\n",
        "# print(Counter(y_train))\n",
        "\n",
        "logreg = LogisticRegression(max_iter=1000, C=1.2)\n",
        "logreg.fit(X_train_flat, y_train)"
      ],
      "metadata": {
        "id": "Y4YYfugOx9w3",
        "colab": {
          "base_uri": "https://localhost:8080/",
          "height": 75
        },
        "outputId": "3418463c-c19c-496c-a86c-00129ade251f"
      },
      "execution_count": null,
      "outputs": [
        {
          "output_type": "execute_result",
          "data": {
            "text/plain": [
              "LogisticRegression(C=1.2, max_iter=1000)"
            ],
            "text/html": [
              "<style>#sk-container-id-2 {color: black;background-color: white;}#sk-container-id-2 pre{padding: 0;}#sk-container-id-2 div.sk-toggleable {background-color: white;}#sk-container-id-2 label.sk-toggleable__label {cursor: pointer;display: block;width: 100%;margin-bottom: 0;padding: 0.3em;box-sizing: border-box;text-align: center;}#sk-container-id-2 label.sk-toggleable__label-arrow:before {content: \"▸\";float: left;margin-right: 0.25em;color: #696969;}#sk-container-id-2 label.sk-toggleable__label-arrow:hover:before {color: black;}#sk-container-id-2 div.sk-estimator:hover label.sk-toggleable__label-arrow:before {color: black;}#sk-container-id-2 div.sk-toggleable__content {max-height: 0;max-width: 0;overflow: hidden;text-align: left;background-color: #f0f8ff;}#sk-container-id-2 div.sk-toggleable__content pre {margin: 0.2em;color: black;border-radius: 0.25em;background-color: #f0f8ff;}#sk-container-id-2 input.sk-toggleable__control:checked~div.sk-toggleable__content {max-height: 200px;max-width: 100%;overflow: auto;}#sk-container-id-2 input.sk-toggleable__control:checked~label.sk-toggleable__label-arrow:before {content: \"▾\";}#sk-container-id-2 div.sk-estimator input.sk-toggleable__control:checked~label.sk-toggleable__label {background-color: #d4ebff;}#sk-container-id-2 div.sk-label input.sk-toggleable__control:checked~label.sk-toggleable__label {background-color: #d4ebff;}#sk-container-id-2 input.sk-hidden--visually {border: 0;clip: rect(1px 1px 1px 1px);clip: rect(1px, 1px, 1px, 1px);height: 1px;margin: -1px;overflow: hidden;padding: 0;position: absolute;width: 1px;}#sk-container-id-2 div.sk-estimator {font-family: monospace;background-color: #f0f8ff;border: 1px dotted black;border-radius: 0.25em;box-sizing: border-box;margin-bottom: 0.5em;}#sk-container-id-2 div.sk-estimator:hover {background-color: #d4ebff;}#sk-container-id-2 div.sk-parallel-item::after {content: \"\";width: 100%;border-bottom: 1px solid gray;flex-grow: 1;}#sk-container-id-2 div.sk-label:hover label.sk-toggleable__label {background-color: #d4ebff;}#sk-container-id-2 div.sk-serial::before {content: \"\";position: absolute;border-left: 1px solid gray;box-sizing: border-box;top: 0;bottom: 0;left: 50%;z-index: 0;}#sk-container-id-2 div.sk-serial {display: flex;flex-direction: column;align-items: center;background-color: white;padding-right: 0.2em;padding-left: 0.2em;position: relative;}#sk-container-id-2 div.sk-item {position: relative;z-index: 1;}#sk-container-id-2 div.sk-parallel {display: flex;align-items: stretch;justify-content: center;background-color: white;position: relative;}#sk-container-id-2 div.sk-item::before, #sk-container-id-2 div.sk-parallel-item::before {content: \"\";position: absolute;border-left: 1px solid gray;box-sizing: border-box;top: 0;bottom: 0;left: 50%;z-index: -1;}#sk-container-id-2 div.sk-parallel-item {display: flex;flex-direction: column;z-index: 1;position: relative;background-color: white;}#sk-container-id-2 div.sk-parallel-item:first-child::after {align-self: flex-end;width: 50%;}#sk-container-id-2 div.sk-parallel-item:last-child::after {align-self: flex-start;width: 50%;}#sk-container-id-2 div.sk-parallel-item:only-child::after {width: 0;}#sk-container-id-2 div.sk-dashed-wrapped {border: 1px dashed gray;margin: 0 0.4em 0.5em 0.4em;box-sizing: border-box;padding-bottom: 0.4em;background-color: white;}#sk-container-id-2 div.sk-label label {font-family: monospace;font-weight: bold;display: inline-block;line-height: 1.2em;}#sk-container-id-2 div.sk-label-container {text-align: center;}#sk-container-id-2 div.sk-container {/* jupyter's `normalize.less` sets `[hidden] { display: none; }` but bootstrap.min.css set `[hidden] { display: none !important; }` so we also need the `!important` here to be able to override the default hidden behavior on the sphinx rendered scikit-learn.org. See: https://github.com/scikit-learn/scikit-learn/issues/21755 */display: inline-block !important;position: relative;}#sk-container-id-2 div.sk-text-repr-fallback {display: none;}</style><div id=\"sk-container-id-2\" class=\"sk-top-container\"><div class=\"sk-text-repr-fallback\"><pre>LogisticRegression(C=1.2, max_iter=1000)</pre><b>In a Jupyter environment, please rerun this cell to show the HTML representation or trust the notebook. <br />On GitHub, the HTML representation is unable to render, please try loading this page with nbviewer.org.</b></div><div class=\"sk-container\" hidden><div class=\"sk-item\"><div class=\"sk-estimator sk-toggleable\"><input class=\"sk-toggleable__control sk-hidden--visually\" id=\"sk-estimator-id-2\" type=\"checkbox\" checked><label for=\"sk-estimator-id-2\" class=\"sk-toggleable__label sk-toggleable__label-arrow\">LogisticRegression</label><div class=\"sk-toggleable__content\"><pre>LogisticRegression(C=1.2, max_iter=1000)</pre></div></div></div></div></div>"
            ]
          },
          "metadata": {},
          "execution_count": 10
        }
      ]
    },
    {
      "cell_type": "code",
      "source": [
        "y_pred = logreg.predict(X_test2_flat)\n",
        "\n",
        "acc = accuracy_score(y_test2, y_pred)\n",
        "score = f1_score(y_test2, y_pred, average='macro')\n",
        "classify = classification_report(y_test2, y_pred)\n",
        "cm = confusion_matrix(y_test2, y_pred)\n",
        "y_pred_proba = logreg.predict_proba(X_test2_flat)\n",
        "roc_auc = roc_auc_score(y_test2, y_pred_proba, multi_class='ovo')\n",
        "\n",
        "\n",
        "print('score on validation = {}'.format(score))\n",
        "print('score on accuracy = {}'.format(acc))\n",
        "print('classfication report = {}'.format(classify))\n",
        "print('ROC-AUC score:', roc_auc)"
      ],
      "metadata": {
        "colab": {
          "base_uri": "https://localhost:8080/"
        },
        "id": "xRS4amfI_GPK",
        "outputId": "bcdc5428-79fe-4cb2-bd19-be59ee52570d"
      },
      "execution_count": null,
      "outputs": [
        {
          "output_type": "stream",
          "name": "stdout",
          "text": [
            "score on validation = 0.7268671977247558\n",
            "score on accuracy = 0.7346666666666667\n",
            "classfication report =               precision    recall  f1-score   support\n",
            "\n",
            "           1       0.80      0.74      0.77       200\n",
            "           2       0.74      0.46      0.57       185\n",
            "           3       0.60      0.84      0.70       178\n",
            "           4       0.84      0.89      0.87       187\n",
            "\n",
            "    accuracy                           0.73       750\n",
            "   macro avg       0.75      0.74      0.73       750\n",
            "weighted avg       0.75      0.73      0.73       750\n",
            "\n",
            "ROC-AUC score: 0.9114314008324252\n"
          ]
        }
      ]
    },
    {
      "cell_type": "code",
      "source": [
        "from matplotlib import pyplot as plt\n",
        "import seaborn as sb\n",
        "class_labels = [1, 2, 3, 4]\n",
        "sb.heatmap(cm, annot=True, fmt='d',  xticklabels=class_labels, yticklabels=class_labels)\n",
        "plt.xlabel('Predicted')\n",
        "plt.ylabel('Truth')"
      ],
      "metadata": {
        "colab": {
          "base_uri": "https://localhost:8080/",
          "height": 467
        },
        "id": "pD-vJx38RLZj",
        "outputId": "292080df-7104-4130-abfa-35d41014a72f"
      },
      "execution_count": null,
      "outputs": [
        {
          "output_type": "execute_result",
          "data": {
            "text/plain": [
              "Text(50.722222222222214, 0.5, 'Truth')"
            ]
          },
          "metadata": {},
          "execution_count": 23
        },
        {
          "output_type": "display_data",
          "data": {
            "text/plain": [
              "<Figure size 640x480 with 2 Axes>"
            ],
            "image/png": "[encoded data removed]"
          },
          "metadata": {}
        }
      ]
    },
    {
      "cell_type": "code",
      "source": [
        "row_counts = y_train.value_counts()\n",
        "row_counts"
      ],
      "metadata": {
        "id": "D_A2wzkuK4_h"
      },
      "execution_count": null,
      "outputs": []
    },
    {
      "cell_type": "markdown",
      "source": [
        "### Decision Tree"
      ],
      "metadata": {
        "id": "mfMcQUb0gFAO"
      }
    },
    {
      "cell_type": "code",
      "source": [],
      "metadata": {
        "id": "lC0zSPPH_FOA"
      },
      "execution_count": null,
      "outputs": []
    },
    {
      "cell_type": "code",
      "source": [
        "from sklearn.tree import DecisionTreeClassifier\n",
        "from sklearn.model_selection import train_test_split\n",
        "#‘newton-cg’, ‘lbfgs’, ‘liblinear’, ‘sag’, ‘saga’\n",
        "\n",
        "base_path = '/content/drive/MyDrive/cs4248_project/embeddings/doc_w2v/'\n",
        "way = 'way7'\n",
        "\n",
        "train_data2 = pd.read_pickle(f'{base_path}{way}_train_doc.pkl')\n",
        "test_data2 = pd.read_pickle(f'{base_path}{way}_test_doc.pkl')\n",
        "\n",
        "\n",
        "#for way 6-11, change 'category' to 'Label'\n",
        "train2 = train_data2['embeddings']\n",
        "test2 = test_data2['embeddings']\n",
        "\n",
        "y = train_data2['Label'].astype(int)\n",
        "y2 = test_data2['Label'].astype(int)\n",
        "\n",
        "\n",
        "X_train, X_test, y_train, y_test = train_test_split(train2, y, test_size=0.25, random_state=42)\n",
        "\n",
        "X_train2, X_test2, y_train2, y_test2 = train_test_split(test2, y2, test_size=0.25, random_state=42)\n",
        "\n",
        "X_train_flat = np.concatenate(X_train.values)\n",
        "X_test2_flat = np.concatenate(X_test2.values)\n",
        "\n",
        "X_train_flat = X_train_flat.reshape(len(X_train), -1)\n",
        "X_test2_flat = X_test2_flat.reshape(len(X_test2), -1)\n",
        "\n",
        "\n",
        "DT = DecisionTreeClassifier()\n",
        "DT.fit(X_train_flat,y_train)"
      ],
      "metadata": {
        "id": "RQ2S-vL9x6R5",
        "colab": {
          "base_uri": "https://localhost:8080/",
          "height": 75
        },
        "outputId": "45493b69-ae65-4564-cc7b-9cab8a5e386a"
      },
      "execution_count": null,
      "outputs": [
        {
          "output_type": "execute_result",
          "data": {
            "text/plain": [
              "DecisionTreeClassifier()"
            ],
            "text/html": [
              "<style>#sk-container-id-1 {color: black;background-color: white;}#sk-container-id-1 pre{padding: 0;}#sk-container-id-1 div.sk-toggleable {background-color: white;}#sk-container-id-1 label.sk-toggleable__label {cursor: pointer;display: block;width: 100%;margin-bottom: 0;padding: 0.3em;box-sizing: border-box;text-align: center;}#sk-container-id-1 label.sk-toggleable__label-arrow:before {content: \"▸\";float: left;margin-right: 0.25em;color: #696969;}#sk-container-id-1 label.sk-toggleable__label-arrow:hover:before {color: black;}#sk-container-id-1 div.sk-estimator:hover label.sk-toggleable__label-arrow:before {color: black;}#sk-container-id-1 div.sk-toggleable__content {max-height: 0;max-width: 0;overflow: hidden;text-align: left;background-color: #f0f8ff;}#sk-container-id-1 div.sk-toggleable__content pre {margin: 0.2em;color: black;border-radius: 0.25em;background-color: #f0f8ff;}#sk-container-id-1 input.sk-toggleable__control:checked~div.sk-toggleable__content {max-height: 200px;max-width: 100%;overflow: auto;}#sk-container-id-1 input.sk-toggleable__control:checked~label.sk-toggleable__label-arrow:before {content: \"▾\";}#sk-container-id-1 div.sk-estimator input.sk-toggleable__control:checked~label.sk-toggleable__label {background-color: #d4ebff;}#sk-container-id-1 div.sk-label input.sk-toggleable__control:checked~label.sk-toggleable__label {background-color: #d4ebff;}#sk-container-id-1 input.sk-hidden--visually {border: 0;clip: rect(1px 1px 1px 1px);clip: rect(1px, 1px, 1px, 1px);height: 1px;margin: -1px;overflow: hidden;padding: 0;position: absolute;width: 1px;}#sk-container-id-1 div.sk-estimator {font-family: monospace;background-color: #f0f8ff;border: 1px dotted black;border-radius: 0.25em;box-sizing: border-box;margin-bottom: 0.5em;}#sk-container-id-1 div.sk-estimator:hover {background-color: #d4ebff;}#sk-container-id-1 div.sk-parallel-item::after {content: \"\";width: 100%;border-bottom: 1px solid gray;flex-grow: 1;}#sk-container-id-1 div.sk-label:hover label.sk-toggleable__label {background-color: #d4ebff;}#sk-container-id-1 div.sk-serial::before {content: \"\";position: absolute;border-left: 1px solid gray;box-sizing: border-box;top: 0;bottom: 0;left: 50%;z-index: 0;}#sk-container-id-1 div.sk-serial {display: flex;flex-direction: column;align-items: center;background-color: white;padding-right: 0.2em;padding-left: 0.2em;position: relative;}#sk-container-id-1 div.sk-item {position: relative;z-index: 1;}#sk-container-id-1 div.sk-parallel {display: flex;align-items: stretch;justify-content: center;background-color: white;position: relative;}#sk-container-id-1 div.sk-item::before, #sk-container-id-1 div.sk-parallel-item::before {content: \"\";position: absolute;border-left: 1px solid gray;box-sizing: border-box;top: 0;bottom: 0;left: 50%;z-index: -1;}#sk-container-id-1 div.sk-parallel-item {display: flex;flex-direction: column;z-index: 1;position: relative;background-color: white;}#sk-container-id-1 div.sk-parallel-item:first-child::after {align-self: flex-end;width: 50%;}#sk-container-id-1 div.sk-parallel-item:last-child::after {align-self: flex-start;width: 50%;}#sk-container-id-1 div.sk-parallel-item:only-child::after {width: 0;}#sk-container-id-1 div.sk-dashed-wrapped {border: 1px dashed gray;margin: 0 0.4em 0.5em 0.4em;box-sizing: border-box;padding-bottom: 0.4em;background-color: white;}#sk-container-id-1 div.sk-label label {font-family: monospace;font-weight: bold;display: inline-block;line-height: 1.2em;}#sk-container-id-1 div.sk-label-container {text-align: center;}#sk-container-id-1 div.sk-container {/* jupyter's `normalize.less` sets `[hidden] { display: none; }` but bootstrap.min.css set `[hidden] { display: none !important; }` so we also need the `!important` here to be able to override the default hidden behavior on the sphinx rendered scikit-learn.org. See: https://github.com/scikit-learn/scikit-learn/issues/21755 */display: inline-block !important;position: relative;}#sk-container-id-1 div.sk-text-repr-fallback {display: none;}</style><div id=\"sk-container-id-1\" class=\"sk-top-container\"><div class=\"sk-text-repr-fallback\"><pre>DecisionTreeClassifier()</pre><b>In a Jupyter environment, please rerun this cell to show the HTML representation or trust the notebook. <br />On GitHub, the HTML representation is unable to render, please try loading this page with nbviewer.org.</b></div><div class=\"sk-container\" hidden><div class=\"sk-item\"><div class=\"sk-estimator sk-toggleable\"><input class=\"sk-toggleable__control sk-hidden--visually\" id=\"sk-estimator-id-1\" type=\"checkbox\" checked><label for=\"sk-estimator-id-1\" class=\"sk-toggleable__label sk-toggleable__label-arrow\">DecisionTreeClassifier</label><div class=\"sk-toggleable__content\"><pre>DecisionTreeClassifier()</pre></div></div></div></div></div>"
            ]
          },
          "metadata": {},
          "execution_count": 8
        }
      ]
    },
    {
      "cell_type": "code",
      "source": [
        "y_pred = DT.predict(X_test2_flat)\n",
        "\n",
        "acc = accuracy_score(y_test2, y_pred)\n",
        "acc = accuracy_score(y_test2, y_pred)\n",
        "score = f1_score(y_test2, y_pred, average='macro')\n",
        "classify = classification_report(y_test2, y_pred)\n",
        "y_pred_proba = logreg.predict_proba(X_test2_flat)\n",
        "roc_auc = roc_auc_score(y_test2, y_pred_proba, multi_class='ovr')\n",
        "\n",
        "print('score on validation = {}'.format(score))\n",
        "print('score on accuracy = {}'.format(acc))\n",
        "print('classfication report = {}'.format(classify))\n",
        "print('ROC-AUC score:', roc_auc)"
      ],
      "metadata": {
        "id": "nrCHv4yUDvxF",
        "colab": {
          "base_uri": "https://localhost:8080/",
          "height": 216
        },
        "outputId": "cc7ae8a3-ee75-44be-ec59-d8e15bb2bfc9"
      },
      "execution_count": null,
      "outputs": [
        {
          "output_type": "error",
          "ename": "NameError",
          "evalue": "name 'DT' is not defined",
          "traceback": [
            "\u001b[0;31m---------------------------------------------------------------------------\u001b[0m",
            "\u001b[0;31mNameError\u001b[0m                                 Traceback (most recent call last)",
            "\u001b[0;32m<ipython-input-25-a9d81a8d4cc2>\u001b[0m in \u001b[0;36m<cell line: 1>\u001b[0;34m()\u001b[0m\n\u001b[0;32m----> 1\u001b[0;31m \u001b[0my_pred\u001b[0m \u001b[0;34m=\u001b[0m \u001b[0mDT\u001b[0m\u001b[0;34m.\u001b[0m\u001b[0mpredict\u001b[0m\u001b[0;34m(\u001b[0m\u001b[0mX_test2_flat\u001b[0m\u001b[0;34m)\u001b[0m\u001b[0;34m\u001b[0m\u001b[0;34m\u001b[0m\u001b[0m\n\u001b[0m\u001b[1;32m      2\u001b[0m \u001b[0;34m\u001b[0m\u001b[0m\n\u001b[1;32m      3\u001b[0m \u001b[0macc\u001b[0m \u001b[0;34m=\u001b[0m \u001b[0maccuracy_score\u001b[0m\u001b[0;34m(\u001b[0m\u001b[0my_test2\u001b[0m\u001b[0;34m,\u001b[0m \u001b[0my_pred\u001b[0m\u001b[0;34m)\u001b[0m\u001b[0;34m\u001b[0m\u001b[0;34m\u001b[0m\u001b[0m\n\u001b[1;32m      4\u001b[0m \u001b[0macc\u001b[0m \u001b[0;34m=\u001b[0m \u001b[0maccuracy_score\u001b[0m\u001b[0;34m(\u001b[0m\u001b[0my_test2\u001b[0m\u001b[0;34m,\u001b[0m \u001b[0my_pred\u001b[0m\u001b[0;34m)\u001b[0m\u001b[0;34m\u001b[0m\u001b[0;34m\u001b[0m\u001b[0m\n\u001b[1;32m      5\u001b[0m \u001b[0mscore\u001b[0m \u001b[0;34m=\u001b[0m \u001b[0mf1_score\u001b[0m\u001b[0;34m(\u001b[0m\u001b[0my_test2\u001b[0m\u001b[0;34m,\u001b[0m \u001b[0my_pred\u001b[0m\u001b[0;34m,\u001b[0m \u001b[0maverage\u001b[0m\u001b[0;34m=\u001b[0m\u001b[0;34m'macro'\u001b[0m\u001b[0;34m)\u001b[0m\u001b[0;34m\u001b[0m\u001b[0;34m\u001b[0m\u001b[0m\n",
            "\u001b[0;31mNameError\u001b[0m: name 'DT' is not defined"
          ]
        }
      ]
    },
    {
      "cell_type": "markdown",
      "source": [
        "### Random Forest"
      ],
      "metadata": {
        "id": "yy7h7-wcxtMG"
      }
    },
    {
      "cell_type": "code",
      "source": [
        "from sklearn.ensemble import RandomForestClassifier\n",
        "from sklearn.model_selection import train_test_split\n",
        "#‘newton-cg’, ‘lbfgs’, ‘liblinear’, ‘sag’, ‘saga’\n",
        "\n",
        "base_path = '/content/drive/MyDrive/cs4248_project/embeddings/doc_w2v/'\n",
        "way = 'way7'\n",
        "\n",
        "train_data2 = pd.read_pickle(f'{base_path}{way}_train_doc.pkl')\n",
        "test_data2 = pd.read_pickle(f'{base_path}{way}_test_doc.pkl')\n",
        "\n",
        "\n",
        "#for way 6-11, change 'category' to 'Label'\n",
        "train2 = train_data2['embeddings']\n",
        "test2 = test_data2['embeddings']\n",
        "\n",
        "y = train_data2['Label'].astype(int)\n",
        "y2 = test_data2['Label'].astype(int)\n",
        "\n",
        "\n",
        "X_train, X_test, y_train, y_test = train_test_split(train2, y, test_size=0.25, random_state=42)\n",
        "\n",
        "X_train2, X_test2, y_train2, y_test2 = train_test_split(test2, y2, test_size=0.25, random_state=42)\n",
        "\n",
        "X_train_flat = np.concatenate(X_train.values)\n",
        "X_test2_flat = np.concatenate(X_test2.values)\n",
        "\n",
        "X_train_flat = X_train_flat.reshape(len(X_train), -1)\n",
        "X_test2_flat = X_test2_flat.reshape(len(X_test2), -1)\n",
        "\n",
        "smote = SMOTE(sampling_strategy={1: 13401, 2: 13401, 4: 13401}, random_state=4248)\n",
        "\n",
        "X_train_res, y_train_res = smote.fit_resample(X_train_flat, y_train)\n",
        "\n",
        "#print(Counter(y_train))\n",
        "\n",
        "rf = RandomForestClassifier(n_estimators=200, random_state=42)\n",
        "\n",
        "\n",
        "rf.fit(X_train_res, y_train_res)"
      ],
      "metadata": {
        "id": "xkhEsJ3fxybr",
        "colab": {
          "base_uri": "https://localhost:8080/",
          "height": 75
        },
        "outputId": "d11b870a-7d18-43c1-dcf8-5d56d2bf9666"
      },
      "execution_count": null,
      "outputs": [
        {
          "output_type": "execute_result",
          "data": {
            "text/plain": [
              "RandomForestClassifier(n_estimators=200, random_state=42)"
            ],
            "text/html": [
              "<style>#sk-container-id-1 {color: black;background-color: white;}#sk-container-id-1 pre{padding: 0;}#sk-container-id-1 div.sk-toggleable {background-color: white;}#sk-container-id-1 label.sk-toggleable__label {cursor: pointer;display: block;width: 100%;margin-bottom: 0;padding: 0.3em;box-sizing: border-box;text-align: center;}#sk-container-id-1 label.sk-toggleable__label-arrow:before {content: \"▸\";float: left;margin-right: 0.25em;color: #696969;}#sk-container-id-1 label.sk-toggleable__label-arrow:hover:before {color: black;}#sk-container-id-1 div.sk-estimator:hover label.sk-toggleable__label-arrow:before {color: black;}#sk-container-id-1 div.sk-toggleable__content {max-height: 0;max-width: 0;overflow: hidden;text-align: left;background-color: #f0f8ff;}#sk-container-id-1 div.sk-toggleable__content pre {margin: 0.2em;color: black;border-radius: 0.25em;background-color: #f0f8ff;}#sk-container-id-1 input.sk-toggleable__control:checked~div.sk-toggleable__content {max-height: 200px;max-width: 100%;overflow: auto;}#sk-container-id-1 input.sk-toggleable__control:checked~label.sk-toggleable__label-arrow:before {content: \"▾\";}#sk-container-id-1 div.sk-estimator input.sk-toggleable__control:checked~label.sk-toggleable__label {background-color: #d4ebff;}#sk-container-id-1 div.sk-label input.sk-toggleable__control:checked~label.sk-toggleable__label {background-color: #d4ebff;}#sk-container-id-1 input.sk-hidden--visually {border: 0;clip: rect(1px 1px 1px 1px);clip: rect(1px, 1px, 1px, 1px);height: 1px;margin: -1px;overflow: hidden;padding: 0;position: absolute;width: 1px;}#sk-container-id-1 div.sk-estimator {font-family: monospace;background-color: #f0f8ff;border: 1px dotted black;border-radius: 0.25em;box-sizing: border-box;margin-bottom: 0.5em;}#sk-container-id-1 div.sk-estimator:hover {background-color: #d4ebff;}#sk-container-id-1 div.sk-parallel-item::after {content: \"\";width: 100%;border-bottom: 1px solid gray;flex-grow: 1;}#sk-container-id-1 div.sk-label:hover label.sk-toggleable__label {background-color: #d4ebff;}#sk-container-id-1 div.sk-serial::before {content: \"\";position: absolute;border-left: 1px solid gray;box-sizing: border-box;top: 0;bottom: 0;left: 50%;z-index: 0;}#sk-container-id-1 div.sk-serial {display: flex;flex-direction: column;align-items: center;background-color: white;padding-right: 0.2em;padding-left: 0.2em;position: relative;}#sk-container-id-1 div.sk-item {position: relative;z-index: 1;}#sk-container-id-1 div.sk-parallel {display: flex;align-items: stretch;justify-content: center;background-color: white;position: relative;}#sk-container-id-1 div.sk-item::before, #sk-container-id-1 div.sk-parallel-item::before {content: \"\";position: absolute;border-left: 1px solid gray;box-sizing: border-box;top: 0;bottom: 0;left: 50%;z-index: -1;}#sk-container-id-1 div.sk-parallel-item {display: flex;flex-direction: column;z-index: 1;position: relative;background-color: white;}#sk-container-id-1 div.sk-parallel-item:first-child::after {align-self: flex-end;width: 50%;}#sk-container-id-1 div.sk-parallel-item:last-child::after {align-self: flex-start;width: 50%;}#sk-container-id-1 div.sk-parallel-item:only-child::after {width: 0;}#sk-container-id-1 div.sk-dashed-wrapped {border: 1px dashed gray;margin: 0 0.4em 0.5em 0.4em;box-sizing: border-box;padding-bottom: 0.4em;background-color: white;}#sk-container-id-1 div.sk-label label {font-family: monospace;font-weight: bold;display: inline-block;line-height: 1.2em;}#sk-container-id-1 div.sk-label-container {text-align: center;}#sk-container-id-1 div.sk-container {/* jupyter's `normalize.less` sets `[hidden] { display: none; }` but bootstrap.min.css set `[hidden] { display: none !important; }` so we also need the `!important` here to be able to override the default hidden behavior on the sphinx rendered scikit-learn.org. See: https://github.com/scikit-learn/scikit-learn/issues/21755 */display: inline-block !important;position: relative;}#sk-container-id-1 div.sk-text-repr-fallback {display: none;}</style><div id=\"sk-container-id-1\" class=\"sk-top-container\"><div class=\"sk-text-repr-fallback\"><pre>RandomForestClassifier(n_estimators=200, random_state=42)</pre><b>In a Jupyter environment, please rerun this cell to show the HTML representation or trust the notebook. <br />On GitHub, the HTML representation is unable to render, please try loading this page with nbviewer.org.</b></div><div class=\"sk-container\" hidden><div class=\"sk-item\"><div class=\"sk-estimator sk-toggleable\"><input class=\"sk-toggleable__control sk-hidden--visually\" id=\"sk-estimator-id-1\" type=\"checkbox\" checked><label for=\"sk-estimator-id-1\" class=\"sk-toggleable__label sk-toggleable__label-arrow\">RandomForestClassifier</label><div class=\"sk-toggleable__content\"><pre>RandomForestClassifier(n_estimators=200, random_state=42)</pre></div></div></div></div></div>"
            ]
          },
          "metadata": {},
          "execution_count": 5
        }
      ]
    },
    {
      "cell_type": "code",
      "source": [
        "y_pred = rf.predict(X_test2_flat)\n",
        "\n",
        "acc = accuracy_score(y_test2, y_pred)\n",
        "acc = accuracy_score(y_test2, y_pred)\n",
        "score = f1_score(y_test2, y_pred, average='macro')\n",
        "classify = classification_report(y_test2, y_pred)\n",
        "y_pred_proba = rf.predict_proba(X_test2_flat)\n",
        "roc_auc = roc_auc_score(y_test2, y_pred_proba, multi_class='ovo')\n",
        "\n",
        "print('score on validation = {}'.format(score))\n",
        "print('score on accuracy = {}'.format(acc))\n",
        "print('classfication report = {}'.format(classify))\n",
        "print('ROC-AUC score:', roc_auc)"
      ],
      "metadata": {
        "id": "ZCCe-T3HvNLS",
        "colab": {
          "base_uri": "https://localhost:8080/"
        },
        "outputId": "bb0dc835-4f17-4706-df49-0fc7050ae8dc"
      },
      "execution_count": null,
      "outputs": [
        {
          "output_type": "stream",
          "name": "stdout",
          "text": [
            "score on validation = 0.7111814421866571\n",
            "score on accuracy = 0.7146666666666667\n",
            "classfication report =               precision    recall  f1-score   support\n",
            "\n",
            "           1       0.75      0.66      0.70       200\n",
            "           2       0.67      0.54      0.60       185\n",
            "           3       0.64      0.85      0.73       178\n",
            "           4       0.82      0.82      0.82       187\n",
            "\n",
            "    accuracy                           0.71       750\n",
            "   macro avg       0.72      0.72      0.71       750\n",
            "weighted avg       0.72      0.71      0.71       750\n",
            "\n",
            "ROC-AUC score: 0.8963901255323101\n"
          ]
        }
      ]
    },
    {
      "cell_type": "markdown",
      "source": [
        "### MLP"
      ],
      "metadata": {
        "id": "dcPGSlQUfo1A"
      }
    },
    {
      "cell_type": "code",
      "source": [
        "import pandas as pd\n",
        "from sklearn.metrics import f1_score, precision_score, recall_score, accuracy_score, roc_auc_score, average_precision_score\n",
        "\n",
        "from copy import deepcopy\n",
        "import random\n",
        "import warnings\n",
        "import torch\n",
        "import numpy as np\n",
        "import seaborn as sns\n",
        "import matplotlib.pyplot as plt\n",
        "from torch.nn import Linear\n",
        "from torch.nn.functional import dropout\n",
        "from torch.utils.data import Dataset, DataLoader\n",
        "\n",
        "WV_SIZE = 300\n",
        "N_CLASSES = 4\n",
        "\n",
        "###############################\n",
        "########## MLP MODEL ##########\n",
        "###############################\n",
        "\n",
        "class MLP(torch.nn.Module):\n",
        "    def __init__(self, nHiddenChannels1, nHiddenChannels2):\n",
        "        super().__init__()\n",
        "        self.lin1 = Linear(WV_SIZE, nHiddenChannels1)\n",
        "        self.lin2 = Linear(nHiddenChannels1, nHiddenChannels2)\n",
        "        self.lin3 = Linear(nHiddenChannels2, N_CLASSES)\n",
        "\n",
        "    def forward(self, x):\n",
        "        x = self.lin1(x)\n",
        "        x = x.relu()\n",
        "        x = self.lin2(x)\n",
        "        x = x.relu()\n",
        "        x = self.lin3(x)\n",
        "\n",
        "        x = dropout(x, p=0.5, training=self.training)\n",
        "        return x\n",
        "\n",
        "class CustomDataset(Dataset):\n",
        "    def __init__(self, data, labels):\n",
        "        self.data = data\n",
        "        self.labels = labels\n",
        "    def __len__(self):\n",
        "        return self.data.shape[0]\n",
        "    def __getitem__(self, ind):\n",
        "        x = self.data[ind]\n",
        "        y = self.labels[ind]\n",
        "        return x, y\n",
        "\n",
        "###############################\n",
        "######### MAIN METHOD #########\n",
        "###############################\n",
        "\n",
        "def run_mlp(train_data, test_data, nEpochs=3, lr=0.00005):\n",
        "    warnings.filterwarnings(\"ignore\")\n",
        "\n",
        "    # Initialise\n",
        "    model = MLP(nHiddenChannels1=800, nHiddenChannels2=400) # set number of hidden nodes in each layer here\n",
        "    criterion = torch.nn.CrossEntropyLoss()\n",
        "    optimizer = torch.optim.Adam(model.parameters(), lr=lr)\n",
        "    softmax = torch.nn.Softmax(dim=0)\n",
        "\n",
        "    # y = train_data['Label']\n",
        "    # y2 = test_data['Label']\n",
        "\n",
        "    # X_train, x_val, y_train, y_val = train_test_split(train, y, test_size=0.2, random_state=42)\n",
        "\n",
        "    # X_test, _, y_test, _ = train_test_split(test, y2, test_size=0.2, random_state=42)\n",
        "\n",
        "    freqCutOff = int(len(train_data.index)*0.8)\n",
        "    x_train, x_val, x_test = train_data['embeddings'][:freqCutOff], train_data['embeddings'][freqCutOff:], test_data['embeddings']\n",
        "    y_train, y_val, y_test = train_data.iloc[:, 0][:freqCutOff] - 1, train_data.iloc[:, 0][freqCutOff:] - 1, train_data.iloc[:, 0] - 1\n",
        "\n",
        "    # Helper functions for training, testing, and generating word vectors\n",
        "    def train(loader):\n",
        "        model.train()\n",
        "        losses = []\n",
        "        for data in loader:\n",
        "            x, y = data[0], data[1]\n",
        "\n",
        "            optimizer.zero_grad()\n",
        "            out = model(x)\n",
        "            loss = criterion(out, y)\n",
        "            loss.backward()\n",
        "            optimizer.step()\n",
        "            losses.append(loss.item())\n",
        "\n",
        "        return losses\n",
        "\n",
        "    def test(loader):\n",
        "        model.eval()\n",
        "        pred, probs, labels = [], [], []\n",
        "        for data in loader:\n",
        "            x, y = data[0], data[1]\n",
        "\n",
        "            out = model(x)\n",
        "            for i in out:\n",
        "                probs.append(softmax(i).tolist())\n",
        "                pred.append(torch.argmax(i).item())\n",
        "            labels.extend(y)\n",
        "\n",
        "        print(len(labels))\n",
        "        print(len(pred))\n",
        "        with torch.no_grad():\n",
        "            f1, precision, recall, acc = f1_score(labels, pred, average='macro'), precision_score(labels, pred, average='macro'), recall_score(labels, pred, average='macro'), accuracy_score(labels, pred)\n",
        "        return f1, precision, recall, acc\n",
        "\n",
        "    print(\"Starting training...\")\n",
        "\n",
        "    losses = []\n",
        "    f1s, precisions, recalls, accs = [], [], [], []\n",
        "\n",
        "    val_dataset = CustomDataset(torch.tensor(np.stack(x_val.to_numpy()), dtype=torch.float32), torch.tensor(y_val.to_numpy(), dtype=torch.long))\n",
        "    val_loader = DataLoader(val_dataset, batch_size=32, shuffle=True)\n",
        "    for i in range(nEpochs):\n",
        "        curr_xtrain, curr_ytrain = deepcopy(x_train), deepcopy(y_train)\n",
        "        c = list(zip(curr_xtrain, curr_ytrain))\n",
        "        random.shuffle(c)\n",
        "        curr_xtrain, curr_ytrain = zip(*c)\n",
        "        train_dataset = CustomDataset(torch.tensor(curr_xtrain, dtype=torch.float32), torch.tensor(curr_ytrain, dtype=torch.long))\n",
        "        train_loader = DataLoader(train_dataset, batch_size=32, shuffle=True)\n",
        "\n",
        "        currLosses = train(train_loader)\n",
        "        losses.extend(currLosses)\n",
        "        minLoss, avgLoss = min(losses), sum(losses)/len(losses)\n",
        "\n",
        "        f1, precision, recall, acc = test(val_loader)\n",
        "        f1s.append(f1); precisions.append(precision); recalls.append(recall); accs.append(acc);\n",
        "\n",
        "        print(f'''Val Scores.\n",
        "                Epoch: {i} | Min Train Loss: {minLoss} | Avg Train Loss: {avgLoss}\n",
        "                Accuracy: {acc:.4f} | Precision: {precision:.4f} | Recall: {recall:.4f} | F1: {f1:.4f}''')\n",
        "\n",
        "    # Generate prediction on test data\n",
        "    test_dataset = CustomDataset(torch.tensor(x_test, dtype=torch.float32), torch.tensor(y_test, dtype=torch.long))\n",
        "    test_loader = DataLoader(test_dataset, batch_size=32, shuffle=True)\n",
        "    f1, precision, recall, acc = test(test_loader)\n",
        "    print(f'''Test Scores.\n",
        "            Accuracy: {acc:.4f} | Precision: {precision:.4f} | Recall: {recall:.4f} | F1: {f1:.4f}''')\n",
        "\n",
        "    # Visualisation of loss.\n",
        "    losses_float = [float(loss) for loss in losses]\n",
        "    loss_indices = [i for i,l in enumerate(losses_float)]\n",
        "    d = {'indices': np.array(loss_indices), 'loss': np.array(losses_float)}\n",
        "    pdnumsqr = pd.DataFrame(d)\n",
        "    sns.lineplot(x='indices', y='value', hue='variable', data=pd.melt(pdnumsqr, ['indices']))\n",
        "    # plt.ylim(0, 20)\n",
        "    plt.show()\n",
        "\n",
        "    # Visualisation of performance\n",
        "    epoch = [i for i in range(nEpochs)]\n",
        "    d = {'epoch': np.array(epoch), 'F1': np.array(f1s), 'Precision': np.array(precisions), 'Recall': np.array(recalls), 'Accuracy': np.array(accs)}\n",
        "    pdnumsqr = pd.DataFrame(d)\n",
        "    sns.lineplot(x='epoch', y='value', hue='variable', data=pd.melt(pdnumsqr, ['epoch']))\n",
        "    plt.show()\n"
      ],
      "metadata": {
        "id": "PB6eUBKKjp0n"
      },
      "execution_count": null,
      "outputs": []
    },
    {
      "cell_type": "code",
      "source": [
        "base_path = '/content/drive/MyDrive/cs4248_project/embeddings/doc/'\n",
        "way = 'way7'\n",
        "\n",
        "train_data = pd.read_pickle(f'{base_path}{way}_train_doc.pkl')\n",
        "test_data = pd.read_pickle(f'{base_path}{way}_test_doc.pkl')\n",
        "\n",
        "train_data['Label'] = train_data['Label'].astype(int)\n",
        "test_data['Label'] = test_data['Label'].astype(int)\n",
        "run_mlp(train_data, test_data)"
      ],
      "metadata": {
        "colab": {
          "base_uri": "https://localhost:8080/",
          "height": 1000
        },
        "id": "jwi_D6btD2pU",
        "outputId": "3bc3fa43-b638-40d7-a82c-651fd8b6d70a"
      },
      "execution_count": null,
      "outputs": [
        {
          "output_type": "stream",
          "name": "stdout",
          "text": [
            "Starting training...\n",
            "9771\n",
            "9771\n",
            "Val Scores.\n",
            "                Epoch: 0 | Min Train Loss: 0.5676051378250122 | Avg Train Loss: 1.0061668846298941\n",
            "                Accuracy: 0.0000 | Precision: 0.0000 | Recall: 0.0000 | F1: 0.0000\n",
            "9771\n",
            "9771\n",
            "Val Scores.\n",
            "                Epoch: 1 | Min Train Loss: 0.34795495867729187 | Avg Train Loss: 0.8563073753408246\n",
            "                Accuracy: 0.0000 | Precision: 0.0000 | Recall: 0.0000 | F1: 0.0000\n",
            "9771\n",
            "9771\n",
            "Val Scores.\n",
            "                Epoch: 2 | Min Train Loss: 0.13708992302417755 | Avg Train Loss: 0.7812261816075573\n",
            "                Accuracy: 0.0000 | Precision: 0.0000 | Recall: 0.0000 | F1: 0.0000\n",
            "3000\n",
            "3000\n",
            "Test Scores.\n",
            "            Accuracy: 0.4487 | Precision: 0.3333 | Recall: 0.1496 | F1: 0.2065\n"
          ]
        },
        {
          "output_type": "display_data",
          "data": {
            "text/plain": [
              "<Figure size 640x480 with 1 Axes>"
            ],
            "image/png": "[encoded data removed]"
          },
          "metadata": {}
        },
        {
          "output_type": "display_data",
          "data": {
            "text/plain": [
              "<Figure size 640x480 with 1 Axes>"
            ],
            "image/png": "[encoded data removed]"
          },
          "metadata": {}
        }
      ]
    },
    {
      "cell_type": "code",
      "source": [
        "run_mlp(train_data, test_data, train, test)"
      ],
      "metadata": {
        "colab": {
          "base_uri": "https://localhost:8080/",
          "height": 280
        },
        "id": "h6f_5XPyb5e5",
        "outputId": "53631a84-b183-44a3-cb9e-465838214bbb"
      },
      "execution_count": null,
      "outputs": [
        {
          "output_type": "stream",
          "name": "stdout",
          "text": [
            "Starting training...\n"
          ]
        },
        {
          "output_type": "error",
          "ename": "AttributeError",
          "evalue": "'list' object has no attribute 'to_numpy'",
          "traceback": [
            "\u001b[0;31m---------------------------------------------------------------------------\u001b[0m",
            "\u001b[0;31mAttributeError\u001b[0m                            Traceback (most recent call last)",
            "\u001b[0;32m<ipython-input-20-6739d662fbf9>\u001b[0m in \u001b[0;36m<cell line: 1>\u001b[0;34m()\u001b[0m\n\u001b[0;32m----> 1\u001b[0;31m \u001b[0mrun_mlp\u001b[0m\u001b[0;34m(\u001b[0m\u001b[0mtrain_data\u001b[0m\u001b[0;34m,\u001b[0m \u001b[0mtest_data\u001b[0m\u001b[0;34m,\u001b[0m \u001b[0mtrain\u001b[0m\u001b[0;34m,\u001b[0m \u001b[0mtest\u001b[0m\u001b[0;34m)\u001b[0m\u001b[0;34m\u001b[0m\u001b[0;34m\u001b[0m\u001b[0m\n\u001b[0m",
            "\u001b[0;32m<ipython-input-19-dab36fa1f459>\u001b[0m in \u001b[0;36mrun_mlp\u001b[0;34m(train_data, test_data, train, test, nEpochs, lr)\u001b[0m\n\u001b[1;32m    111\u001b[0m     \u001b[0mf1s\u001b[0m\u001b[0;34m,\u001b[0m \u001b[0mprecisions\u001b[0m\u001b[0;34m,\u001b[0m \u001b[0mrecalls\u001b[0m\u001b[0;34m,\u001b[0m \u001b[0maccs\u001b[0m \u001b[0;34m=\u001b[0m \u001b[0;34m[\u001b[0m\u001b[0;34m]\u001b[0m\u001b[0;34m,\u001b[0m \u001b[0;34m[\u001b[0m\u001b[0;34m]\u001b[0m\u001b[0;34m,\u001b[0m \u001b[0;34m[\u001b[0m\u001b[0;34m]\u001b[0m\u001b[0;34m,\u001b[0m \u001b[0;34m[\u001b[0m\u001b[0;34m]\u001b[0m\u001b[0;34m\u001b[0m\u001b[0;34m\u001b[0m\u001b[0m\n\u001b[1;32m    112\u001b[0m \u001b[0;34m\u001b[0m\u001b[0m\n\u001b[0;32m--> 113\u001b[0;31m     \u001b[0mval_dataset\u001b[0m \u001b[0;34m=\u001b[0m \u001b[0mCustomDataset\u001b[0m\u001b[0;34m(\u001b[0m\u001b[0mtorch\u001b[0m\u001b[0;34m.\u001b[0m\u001b[0mtensor\u001b[0m\u001b[0;34m(\u001b[0m\u001b[0mnp\u001b[0m\u001b[0;34m.\u001b[0m\u001b[0mstack\u001b[0m\u001b[0;34m(\u001b[0m\u001b[0mx_val\u001b[0m\u001b[0;34m.\u001b[0m\u001b[0mto_numpy\u001b[0m\u001b[0;34m(\u001b[0m\u001b[0;34m)\u001b[0m\u001b[0;34m)\u001b[0m\u001b[0;34m,\u001b[0m \u001b[0mdtype\u001b[0m\u001b[0;34m=\u001b[0m\u001b[0mtorch\u001b[0m\u001b[0;34m.\u001b[0m\u001b[0mfloat32\u001b[0m\u001b[0;34m)\u001b[0m\u001b[0;34m,\u001b[0m \u001b[0mtorch\u001b[0m\u001b[0;34m.\u001b[0m\u001b[0mtensor\u001b[0m\u001b[0;34m(\u001b[0m\u001b[0my_val\u001b[0m\u001b[0;34m.\u001b[0m\u001b[0mto_numpy\u001b[0m\u001b[0;34m(\u001b[0m\u001b[0;34m)\u001b[0m\u001b[0;34m,\u001b[0m \u001b[0mdtype\u001b[0m\u001b[0;34m=\u001b[0m\u001b[0mtorch\u001b[0m\u001b[0;34m.\u001b[0m\u001b[0mlong\u001b[0m\u001b[0;34m)\u001b[0m\u001b[0;34m)\u001b[0m\u001b[0;34m\u001b[0m\u001b[0;34m\u001b[0m\u001b[0m\n\u001b[0m\u001b[1;32m    114\u001b[0m     \u001b[0mval_loader\u001b[0m \u001b[0;34m=\u001b[0m \u001b[0mDataLoader\u001b[0m\u001b[0;34m(\u001b[0m\u001b[0mval_dataset\u001b[0m\u001b[0;34m,\u001b[0m \u001b[0mbatch_size\u001b[0m\u001b[0;34m=\u001b[0m\u001b[0;36m64\u001b[0m\u001b[0;34m,\u001b[0m \u001b[0mshuffle\u001b[0m\u001b[0;34m=\u001b[0m\u001b[0;32mTrue\u001b[0m\u001b[0;34m)\u001b[0m\u001b[0;34m\u001b[0m\u001b[0;34m\u001b[0m\u001b[0m\n\u001b[1;32m    115\u001b[0m     \u001b[0;32mfor\u001b[0m \u001b[0mi\u001b[0m \u001b[0;32min\u001b[0m \u001b[0mrange\u001b[0m\u001b[0;34m(\u001b[0m\u001b[0mnEpochs\u001b[0m\u001b[0;34m)\u001b[0m\u001b[0;34m:\u001b[0m\u001b[0;34m\u001b[0m\u001b[0;34m\u001b[0m\u001b[0m\n",
            "\u001b[0;31mAttributeError\u001b[0m: 'list' object has no attribute 'to_numpy'"
          ]
        }
      ]
    },
    {
      "cell_type": "markdown",
      "source": [
        "### LSTM"
      ],
      "metadata": {
        "id": "2v0IxFsff4iv"
      }
    },
    {
      "cell_type": "code",
      "source": [],
      "metadata": {
        "id": "ebEall2UjqUW"
      },
      "execution_count": null,
      "outputs": []
    },
    {
      "cell_type": "markdown",
      "source": [
        "### TextCNN"
      ],
      "metadata": {
        "id": "B6TjoBCwhYij"
      }
    },
    {
      "cell_type": "code",
      "source": [
        "import keras\n",
        "from keras import Input, Model\n",
        "from keras.preprocessing import sequence\n",
        "from keras.models import load_model\n",
        "from keras.layers import Conv1D, MaxPooling1D, concatenate\n",
        "from keras.layers.embeddings import Embedding\n",
        "from keras.layers.core import Dense, Dropout, Flatten\n",
        "\n",
        "#vocab_size = ...\n",
        "embedding_dim = 300\n",
        "num_classes = 4\n",
        "filter_sizes = [3, 4, 5]\n",
        "num_filters = 100\n",
        "learning_rate = 1e-3\n",
        "batch_size = 64\n",
        "num_epochs = 10\n",
        "\n",
        "# embedding_weights: (vocab_size, embedding_dim)\n",
        "# x_train: (48852, fix_len) each row is the index of a sentence. ex \"I like nlp\"-> [12, 222, 111]\n",
        "def train_textcnn(vocab_size, embedding_weights, x_train, y_train):\n",
        "    main_input = Input(shape=(maxlen,), dtype='float64')\n",
        "    embedder = Embedding(output_dim=embedding_dim,\n",
        "                         input_dim=vocab_size,\n",
        "                         input_length=maxlen,\n",
        "                         weights=[embedding_weights])\n",
        "    embed = embedder(main_input)\n",
        "    cnn1 = Conv1D(256, 3, padding='same', strides=1, activation='relu')(embed)\n",
        "    cnn1 = MaxPooling1D(pool_size=38)(cnn1)\n",
        "    cnn2 = Conv1D(256, 4, padding='same', strides=1, activation='relu')(embed)\n",
        "    cnn2 = MaxPooling1D(pool_size=37)(cnn2)\n",
        "    cnn3 = Conv1D(256, 5, padding='same', strides=1, activation='relu')(embed)\n",
        "    cnn3 = MaxPooling1D(pool_size=36)(cnn3)\n",
        "\n",
        "    cnn = concatenate([cnn1, cnn2, cnn3], axis=-1)\n",
        "    flat = Flatten()(cnn)\n",
        "    drop = Dropout(0.5)(flat)\n",
        "    main_output = Dense(4, activation='softmax')(drop)\n",
        "\n",
        "    model = Model(inputs=main_input, outputs=main_output)\n",
        "\n",
        "    model.compile(loss='categorical_crossentropy', optimizer='adam', metrics=['accuracy'])\n",
        "\n",
        "    model.fit(x_train, y_train, batch_size=batch_size, epochs=n_epoch, verbose=2)\n",
        "\n",
        "    model.save('textcnn.h5')\n",
        "\n",
        "    result = model.predict(x_test)\n",
        "\n",
        "    result_labels = np.argmax(result, axis=1)\n",
        "\n",
        "    y_predict = list(map(str, result_labels))\n",
        "\n",
        "    print('accuracy, metrics.accuracy_score(y_test, y_predict))\n",
        "\n",
        "train_textcnn(n_symbols, embedding_weights, x_train, y_train)"
      ],
      "metadata": {
        "id": "os_58jX5hZSi"
      },
      "execution_count": null,
      "outputs": []
    },
    {
      "cell_type": "markdown",
      "source": [
        "### BiLSTM"
      ],
      "metadata": {
        "id": "ftqnm1Va-A27"
      }
    },
    {
      "cell_type": "code",
      "source": [],
      "metadata": {
        "id": "pEzQ0ljL-DVc"
      },
      "execution_count": null,
      "outputs": []
    },
    {
      "cell_type": "markdown",
      "source": [
        "### Transformer"
      ],
      "metadata": {
        "id": "HuJAIaTjyC4O"
      }
    },
    {
      "cell_type": "code",
      "source": [],
      "metadata": {
        "id": "AynODW1AyFlb"
      },
      "execution_count": null,
      "outputs": []
    }
  ]
}
